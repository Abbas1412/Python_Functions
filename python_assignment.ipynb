{
 "cells": [
  {
   "cell_type": "code",
   "execution_count": 1,
   "id": "d297159a-409c-4ed9-9a5f-f0d22b17bc86",
   "metadata": {},
   "outputs": [],
   "source": [
    "#*******************************************************************************************************#"
   ]
  },
  {
   "cell_type": "code",
   "execution_count": 2,
   "id": "392d7d4e-f968-4ad3-ad35-77fa1776926c",
   "metadata": {},
   "outputs": [],
   "source": [
    "#******************************************** FOR LOOP *************************************************#"
   ]
  },
  {
   "cell_type": "code",
   "execution_count": 3,
   "id": "c7bbc471-071c-4e65-b309-5681a845ebd3",
   "metadata": {},
   "outputs": [],
   "source": [
    "#*******************************************************************************************************#"
   ]
  },
  {
   "cell_type": "code",
   "execution_count": 5,
   "id": "a0787a7a-e00a-481e-b012-b324ebd2229c",
   "metadata": {},
   "outputs": [
    {
     "name": "stdout",
     "output_type": "stream",
     "text": [
      "1 2 3 4 5 6 7 8 9 10 "
     ]
    }
   ],
   "source": [
    "# 1. Write a Python program to print numbers from 1 to 10 using a for loop.\n",
    "\n",
    "#Code:-\n",
    "\n",
    "for i in range(1,11):\n",
    "    print(i,end = ' ')"
   ]
  },
  {
   "cell_type": "markdown",
   "id": "34c9dadd-033c-4246-83d2-36d32cd63e31",
   "metadata": {},
   "source": [
    "# 2. Explain the difference between a for loop and a while loop in Python.\n",
    "\n",
    "Ans:- \n",
    "\n",
    "For Loop:\n",
    "\n",
    "A for loop in Python is primarily used for iterating over sequences (such as lists, tuples, strings, dictionaries, and ranges) or other iterable objects. It is ideal when you know the number of iterations in advance. Here's the basic structure of a for loop:\n",
    "\n",
    "\n",
    "While loop:\n",
    "\n",
    "A while loop on the other hand used when you have to repeat block of code as long as the certain condion is True.\n",
    "It is idea when you don't know the number of iterations in advance:"
   ]
  },
  {
   "cell_type": "code",
   "execution_count": 7,
   "id": "f5e5ff94-774b-410e-ac10-9a70f83c55d4",
   "metadata": {},
   "outputs": [
    {
     "data": {
      "text/plain": [
       "5050"
      ]
     },
     "execution_count": 7,
     "metadata": {},
     "output_type": "execute_result"
    }
   ],
   "source": [
    "# 3. Write a Python program to calculate the sum of all numbers from 1 to 100 using a for loop.\n",
    "\n",
    "#Code:-\n",
    "\n",
    "sum = 0\n",
    "\n",
    "for i in range(1, 101):\n",
    "    sum += i\n",
    "\n",
    "sum"
   ]
  },
  {
   "cell_type": "code",
   "execution_count": 10,
   "id": "8e51efef-1e05-42d8-af0d-784f27391dcd",
   "metadata": {},
   "outputs": [
    {
     "name": "stdout",
     "output_type": "stream",
     "text": [
      "1 2 3 43 44 "
     ]
    }
   ],
   "source": [
    "# 4. How do you iterate through a list using a for loop in Python?\n",
    "\n",
    "'''Ans:-\n",
    "\n",
    "For loop first convert list into iterator and than fetch one by one elements from the list with the help of next key word\n",
    "until the list becomes empty, with the help which for loop will be able to iterate through list.'''\n",
    "\n",
    "#I Will be able to iterate through this syntax\n",
    "\n",
    "l = [1,2,3,43,44]\n",
    "\n",
    "for i in l:\n",
    "    print(i, end = ' ')"
   ]
  },
  {
   "cell_type": "code",
   "execution_count": 12,
   "id": "526237f6-6571-4fb0-a301-9076f0c0ad79",
   "metadata": {},
   "outputs": [
    {
     "data": {
      "text/plain": [
       "1273708800"
      ]
     },
     "execution_count": 12,
     "metadata": {},
     "output_type": "execute_result"
    }
   ],
   "source": [
    "# 5. Write a Python program to find the product of all elements in a list using a for loop.\n",
    "\n",
    "#Code:-\n",
    "\n",
    "l = [1,2,3,4,5,6,7,8,9]\n",
    "\n",
    "product = 1\n",
    "for i in l:\n",
    "    product *= i\n",
    "    \n",
    "product"
   ]
  },
  {
   "cell_type": "code",
   "execution_count": 14,
   "id": "d0343e60-88db-4611-8d74-f4bc6f1073d3",
   "metadata": {},
   "outputs": [
    {
     "name": "stdout",
     "output_type": "stream",
     "text": [
      "2 4 6 8 10 12 14 16 18 20 "
     ]
    }
   ],
   "source": [
    "# 6. Create a Python program that prints all even numbers from 1 to 20 using a for loop.\n",
    "\n",
    "#Code:-\n",
    "\n",
    "for i in range(1,21):\n",
    "    if(i % 2 == 0):\n",
    "        print(i, end = ' ')"
   ]
  },
  {
   "cell_type": "code",
   "execution_count": 1,
   "id": "f4312fee-3cf0-4b91-a696-61f5d8cc805d",
   "metadata": {},
   "outputs": [
    {
     "name": "stdin",
     "output_type": "stream",
     "text": [
      "Enter a number to calculate its factorial 5\n"
     ]
    },
    {
     "data": {
      "text/plain": [
       "120"
      ]
     },
     "execution_count": 1,
     "metadata": {},
     "output_type": "execute_result"
    }
   ],
   "source": [
    "# 7. Write a Python program that calculates the factorial of a number using a for loop.\n",
    "\n",
    "#Code:-\n",
    "\n",
    "num = int(input(\"Enter a number to calculate its factorial\"))\n",
    "fact = 1\n",
    "\n",
    "for i in range(1,num+1):\n",
    "    fact *= i\n",
    "    \n",
    "fact"
   ]
  },
  {
   "cell_type": "code",
   "execution_count": 4,
   "id": "d0d9b134-0f0d-4fef-b85a-209b41ccf83a",
   "metadata": {},
   "outputs": [
    {
     "name": "stdout",
     "output_type": "stream",
     "text": [
      "ZAMIN ABBAS"
     ]
    }
   ],
   "source": [
    "# 8. How can you iterate through the characters of a string using a for loop in Python?\n",
    "\n",
    "#Code:-\n",
    "\n",
    "s = \"ZAMIN ABBAS\"\n",
    "\n",
    "for i in s:\n",
    "    print(i, end = '')"
   ]
  },
  {
   "cell_type": "code",
   "execution_count": 8,
   "id": "a57f1fb7-582a-4ad9-aea8-71d691065c36",
   "metadata": {},
   "outputs": [
    {
     "data": {
      "text/plain": [
       "9"
      ]
     },
     "execution_count": 8,
     "metadata": {},
     "output_type": "execute_result"
    }
   ],
   "source": [
    "# 9. Write a Python program to find the largest number in a list using a for loop.\n",
    "\n",
    "#Code:-\n",
    "\n",
    "l = [1,2,3,4,5,6,7,8,9]\n",
    "\n",
    "Max = float('-inf')\n",
    "for i in l:\n",
    "    if i > Max:\n",
    "        Max = i\n",
    "\n",
    "Max"
   ]
  },
  {
   "cell_type": "code",
   "execution_count": 3,
   "id": "8ac8439a-01cf-43a8-b6fb-ec1a4f328849",
   "metadata": {},
   "outputs": [
    {
     "name": "stdin",
     "output_type": "stream",
     "text": [
      "Enter limit till which you wanna print fibonnacci series 25\n"
     ]
    },
    {
     "data": {
      "text/plain": [
       "[0, 1, 1, 2, 3, 5, 8, 13, 21]"
      ]
     },
     "execution_count": 3,
     "metadata": {},
     "output_type": "execute_result"
    }
   ],
   "source": [
    "# 10. Create a Python program that prints the Fibonacci sequence up to a specified limit using a for loop.\n",
    "\n",
    "#Code:-\n",
    "\n",
    "limit = int(input(\"Enter limit till which you wanna print fibonnacci series\"))\n",
    "\n",
    "fib = [0,1]\n",
    "\n",
    "for i in range(1,limit+1):\n",
    "    \n",
    "    next_term = fib[-1] + fib[-2]\n",
    "    \n",
    "    if(next_term <= limit):\n",
    "        fib.append(next_term)\n",
    "        \n",
    "fib"
   ]
  },
  {
   "cell_type": "code",
   "execution_count": 4,
   "id": "9f65140f-e9ad-46fa-acb1-f759a8ec08e8",
   "metadata": {},
   "outputs": [
    {
     "data": {
      "text/plain": [
       "4"
      ]
     },
     "execution_count": 4,
     "metadata": {},
     "output_type": "execute_result"
    }
   ],
   "source": [
    "# 11. Write a Python program to count the number of vowels in a given string using a for loop.\n",
    "\n",
    "#Code:-\n",
    "\n",
    "s = \"ZAMIN ABBAS\"\n",
    "\n",
    "s1 = s.lower()\n",
    "\n",
    "count = 0\n",
    "\n",
    "for i in s1:\n",
    "    if i == 'a' or i == 'e' or i == 'i' or i == 'o' or i == 'u':\n",
    "        count += 1\n",
    "\n",
    "count"
   ]
  },
  {
   "cell_type": "code",
   "execution_count": 4,
   "id": "852b34ef-bdd0-42de-a105-514fbc21d30c",
   "metadata": {},
   "outputs": [
    {
     "name": "stdout",
     "output_type": "stream",
     "text": [
      "5 * 1 = 5\n",
      "5 * 2 = 10\n",
      "5 * 3 = 15\n",
      "5 * 4 = 20\n",
      "5 * 5 = 25\n",
      "5 * 6 = 30\n",
      "5 * 7 = 35\n",
      "5 * 8 = 40\n",
      "5 * 9 = 45\n",
      "5 * 10 = 50\n"
     ]
    }
   ],
   "source": [
    "# 12. Create a Python program that generates a multiplication table for a given number using a for loop.\n",
    "\n",
    "#Code :-\n",
    "\n",
    "num = 5\n",
    "\n",
    "for i in range(1, 11):\n",
    "    \n",
    "    print(f\"{num} * {i} = {num *i}\")"
   ]
  },
  {
   "cell_type": "code",
   "execution_count": 17,
   "id": "94587aa3-f01b-422a-af7c-ef75e8114c30",
   "metadata": {},
   "outputs": [
    {
     "data": {
      "text/plain": [
       "[10, 9, 8, 7, 6, 5, 4, 3, 2, 1]"
      ]
     },
     "execution_count": 17,
     "metadata": {},
     "output_type": "execute_result"
    }
   ],
   "source": [
    "# 13. Write a Python program to reverse a list using a for loop.\n",
    "\n",
    "l = [1,2,3,4,5,6,7,8,9,10]\n",
    "\n",
    "reversed_list = []\n",
    "for i in range(len(l)-1, -1, -1):\n",
    "     reversed_list.append(l[i])\n",
    "    \n",
    "    \n",
    "reversed_list"
   ]
  },
  {
   "cell_type": "code",
   "execution_count": 11,
   "id": "b8472868-68bf-4403-a441-dbca70fa400d",
   "metadata": {},
   "outputs": [
    {
     "name": "stdout",
     "output_type": "stream",
     "text": [
      "[2, 4, 6, 8, 10]\n"
     ]
    }
   ],
   "source": [
    "# 14. Write a Python program to find the common elements between two lists using a for loop.\n",
    "\n",
    "#Code:-\n",
    "\n",
    "l1 = [1,2,3,4,5,6,7,8,9,10]\n",
    "\n",
    "l2 = [2,4,6,8,10]\n",
    "\n",
    "common_elements = []\n",
    "\n",
    "for item in range(0, len(l1)+1):\n",
    "    \n",
    "    if item in l2:\n",
    "        common_elements.append(item)\n",
    "        \n",
    "print(common_elements)"
   ]
  },
  {
   "cell_type": "code",
   "execution_count": 21,
   "id": "79a28295-751e-455b-bcc6-35093679894c",
   "metadata": {},
   "outputs": [
    {
     "name": "stdout",
     "output_type": "stream",
     "text": [
      "key : A _ Value: Apple\n",
      "key : B _ Value: Ball\n",
      "key : C _ Value: Cat\n"
     ]
    }
   ],
   "source": [
    "# 15 Explain how to use a for loop to iterate through the keys and values of a dictionary in Python.\n",
    "\n",
    "#Code:-\n",
    "\n",
    "dic = {'A' : 'Apple', 'B' : 'Ball', 'C' : 'Cat'}\n",
    "\n",
    "for key,value in dic.items():\n",
    "    \n",
    "    print(f\"key : {key} _ Value: {value}\")"
   ]
  },
  {
   "cell_type": "code",
   "execution_count": 29,
   "id": "0b0ebccb-a618-4a18-b98e-b64aaa047cb8",
   "metadata": {},
   "outputs": [
    {
     "name": "stdin",
     "output_type": "stream",
     "text": [
      "Enter ist number:  48\n",
      "Enter 2nd number:  18\n"
     ]
    },
    {
     "data": {
      "text/plain": [
       "6"
      ]
     },
     "execution_count": 29,
     "metadata": {},
     "output_type": "execute_result"
    }
   ],
   "source": [
    "# 16. Write a Python program to find the GCD (Greatest Common Divisor) of two numbers using a for loop.\n",
    "\n",
    "#Code:-\n",
    "\n",
    "a = int(input(\"Enter ist number: \"))\n",
    "\n",
    "b = int(input(\"Enter 2nd number: \"))\n",
    "\n",
    "\n",
    "gcd = 1\n",
    "\n",
    "min_num = min(a,b)\n",
    "\n",
    "\n",
    "for i in range(2, min_num+1):\n",
    "    if(a % i == 0) and (b % i == 0):\n",
    "        gcd = i\n",
    "gcd"
   ]
  },
  {
   "cell_type": "code",
   "execution_count": 41,
   "id": "60f56486-198b-40b1-8c89-2e9042ef2514",
   "metadata": {},
   "outputs": [
    {
     "name": "stdout",
     "output_type": "stream",
     "text": [
      "Its Palindrome: \n"
     ]
    }
   ],
   "source": [
    "# 17. Create a Python program that checks if a string is a palindrome using a for loop.\n",
    "\n",
    "# Code:-\n",
    "\n",
    "input_string = \"Mah am\"\n",
    "\n",
    "length = len(s)\n",
    "\n",
    "input_string = s.lower()\n",
    "input_string = s.replace(\" \",\"\")\n",
    "\n",
    "check = True\n",
    "\n",
    "for i in range(length//2):\n",
    "    \n",
    "    if input_string[i] != input_string[length-i-1]:\n",
    "        check = False\n",
    "        break\n",
    "\n",
    "if check:\n",
    "    print(\"Its Palindrome: \")\n",
    "    \n",
    "else:\n",
    "    print(\"Its not a Palindrome\")"
   ]
  },
  {
   "cell_type": "code",
   "execution_count": 7,
   "id": "276764f1-3292-44c1-ab8d-c58ab7b71032",
   "metadata": {},
   "outputs": [
    {
     "data": {
      "text/plain": [
       "[1, 3, 4, 5, 6, 7, 8, 9]"
      ]
     },
     "execution_count": 7,
     "metadata": {},
     "output_type": "execute_result"
    }
   ],
   "source": [
    "# 18. Write a Python program to remove duplicates from a list using a for loop.\n",
    "\n",
    "#Code:-\n",
    "\n",
    "duplicate_list = [1,3,3,4,5,5,6,7,8,9]\n",
    "\n",
    "unique_list = []\n",
    "\n",
    "\n",
    "for item in duplicate_list:\n",
    "    \n",
    "    if not item in unique_list:\n",
    "        \n",
    "        unique_list.append(item)\n",
    "\n",
    "print(unique_list)"
   ]
  },
  {
   "cell_type": "code",
   "execution_count": 53,
   "id": "d8410df7-bd01-46b1-8e8a-50a1d63f0deb",
   "metadata": {},
   "outputs": [
    {
     "name": "stdin",
     "output_type": "stream",
     "text": [
      "Enter any sentence my name is zamin abbas\n"
     ]
    },
    {
     "name": "stdout",
     "output_type": "stream",
     "text": [
      "5\n"
     ]
    }
   ],
   "source": [
    "# 19. Create a Python program that counts the number of words in a sentence using a for loop.\n",
    "\n",
    "#Code:-\n",
    "\n",
    "input_string = input(\"Enter any sentence\")\n",
    "l = input_string.split(\" \")\n",
    "\n",
    "count = 0\n",
    "for i in l:\n",
    "    count += 1\n",
    "    \n",
    "print(count)"
   ]
  },
  {
   "cell_type": "code",
   "execution_count": 54,
   "id": "6fa87624-11d6-4060-a77a-23d361597848",
   "metadata": {},
   "outputs": [
    {
     "name": "stdout",
     "output_type": "stream",
     "text": [
      "625\n"
     ]
    }
   ],
   "source": [
    "# 20. Write a Python program to find the sum of all odd numbers from 1 to 50 using a for loop.\n",
    "\n",
    "#Code:-\n",
    "\n",
    "Sum = 0\n",
    "for i in range(1,51):\n",
    "    \n",
    "    if( i % 2 != 0):\n",
    "        Sum += i\n",
    "        \n",
    "print(Sum)"
   ]
  },
  {
   "cell_type": "code",
   "execution_count": 57,
   "id": "115f93a9-8fab-4b1e-ac49-f35e8f61e5ff",
   "metadata": {},
   "outputs": [
    {
     "name": "stdin",
     "output_type": "stream",
     "text": [
      "Enter a year to check for leap year 2004\n"
     ]
    },
    {
     "name": "stdout",
     "output_type": "stream",
     "text": [
      "2004 is a leap year\n"
     ]
    }
   ],
   "source": [
    "# 21. Write a Python program that checks if a given year is a leap year using a for loop.\n",
    "\n",
    "#Code:-\n",
    "\n",
    "year = int(input(\"Enter a year to check for leap year\"))\n",
    "\n",
    "if (year % 4 == 0 and year % 100 != 0) or (year % 400 == 0):\n",
    "    print(f\"{year} is a leap year\")"
   ]
  },
  {
   "cell_type": "code",
   "execution_count": 63,
   "id": "9e971c18-2f58-426d-9dc3-121302043e9b",
   "metadata": {},
   "outputs": [
    {
     "name": "stdin",
     "output_type": "stream",
     "text": [
      "Enter number to find square root 64\n"
     ]
    },
    {
     "name": "stdout",
     "output_type": "stream",
     "text": [
      "8\n"
     ]
    }
   ],
   "source": [
    "# 22. Create a Python program that calculates the square root of a number using a for loop.\n",
    "\n",
    "#Code:-\n",
    "\n",
    "num = float(input(\"Enter number to find square root\"))\n",
    "\n",
    "sqrt = 0\n",
    "\n",
    "for i in range(1,int(num//2)):\n",
    "    if i*i > num:\n",
    "        break\n",
    "    sqrt = i\n",
    "    \n",
    "print(sqrt)"
   ]
  },
  {
   "cell_type": "code",
   "execution_count": 9,
   "id": "bbf11c0b-2534-461e-881c-72bf77a6913f",
   "metadata": {},
   "outputs": [
    {
     "name": "stdin",
     "output_type": "stream",
     "text": [
      "Enter first number 34\n",
      "Enter second number 425\n"
     ]
    },
    {
     "name": "stdout",
     "output_type": "stream",
     "text": [
      "[2, 5, 5, 17]\n"
     ]
    }
   ],
   "source": [
    "# 23. Write a Python program to find the LCM (Least Common Multiple) of two numbers using a for loop.\n",
    "\n",
    "#Code:-\n",
    "\n",
    "a = float(input(\"Enter first number\"))\n",
    "\n",
    "b = float(input(\"Enter second number\"))\n",
    "\n",
    "Min = min(a,b)\n",
    "\n",
    "lcm = []\n",
    "\n",
    "for i in range(2, int(Min)+1):\n",
    "    \n",
    "    while(a % i == 0 or b % i == 0):\n",
    "        \n",
    "        if(a % i == 0):\n",
    "            a = a // i\n",
    "            \n",
    "        if(b % i == 0):\n",
    "            b = b // i\n",
    "            \n",
    "        lcm.append(i)\n",
    "        \n",
    "print(lcm)"
   ]
  },
  {
   "cell_type": "code",
   "execution_count": 10,
   "id": "40e70ef7-b152-48c3-a377-5799b0afb250",
   "metadata": {},
   "outputs": [],
   "source": [
    "#*************************************************************************************************************#\n",
    "#**************************************** IF ELSE PROBLEMS ***************************************************#\n",
    "#*************************************************************************************************************#"
   ]
  },
  {
   "cell_type": "code",
   "execution_count": 1,
   "id": "c7ec8e4e-a7a7-4fbe-b255-d7451f1c3391",
   "metadata": {},
   "outputs": [
    {
     "name": "stdout",
     "output_type": "stream",
     "text": [
      "Given number is positive\n"
     ]
    }
   ],
   "source": [
    "# 1. Write a Python program to check if a number is positive, negative, or zero using an if-else statement.\n",
    "\n",
    "#Code:-\n",
    "\n",
    "num = 10\n",
    "\n",
    "if(num == 0):\n",
    "    print(\"Given number is zero\")\n",
    "    \n",
    "elif(num > 0):\n",
    "    print(\"Given number is positive\")\n",
    "    \n",
    "elif(num < 0):\n",
    "    print(\"Given number is negative\")"
   ]
  },
  {
   "cell_type": "code",
   "execution_count": 2,
   "id": "507ad33e-89af-4385-b03f-8326d1cef9e5",
   "metadata": {},
   "outputs": [
    {
     "name": "stdin",
     "output_type": "stream",
     "text": [
      "Enter any number 32\n"
     ]
    },
    {
     "name": "stdout",
     "output_type": "stream",
     "text": [
      "Num is Even\n"
     ]
    }
   ],
   "source": [
    "# 2. Create a Python program that checks if a given number is even or odd using an if-else statement.\n",
    "\n",
    "#Code:-\n",
    "\n",
    "num = int(input(\"Enter any number\"))\n",
    "\n",
    "\n",
    "if(num % 2 == 0):\n",
    "    print(\"Num is Even\")\n",
    "else:\n",
    "    print(\"Num is Odd\")"
   ]
  },
  {
   "cell_type": "code",
   "execution_count": 3,
   "id": "a20f0335-150d-42cb-8ab0-b3be023f5ca5",
   "metadata": {},
   "outputs": [
    {
     "name": "stdout",
     "output_type": "stream",
     "text": [
      "Year is a century year\n",
      "year is also a leap year\n"
     ]
    }
   ],
   "source": [
    "# 3. How can you use nested if-else statements in Python, and provide an example?\n",
    "\n",
    "#Code:-\n",
    "\n",
    "year = 2000\n",
    "\n",
    "if(year % 100 == 0):\n",
    "    print(\"Year is a century year\")\n",
    "    \n",
    "    if(year % 4 == 0):\n",
    "        print(\"year is also a leap year\")\n",
    "        \n",
    "    else:\n",
    "        print(\"year is not a leap year\")\n",
    "        \n",
    "else:\n",
    "    print(\"year is not a century year\")\n",
    "    \n",
    "    if year % 4 == 0:\n",
    "        print(\"Year is a leap year\")\n",
    "        \n",
    "    else:\n",
    "        print(\"Year is not a leap year\")"
   ]
  },
  {
   "cell_type": "code",
   "execution_count": 4,
   "id": "d0a89066-f265-41ae-b7be-186be6654b5c",
   "metadata": {},
   "outputs": [
    {
     "name": "stdout",
     "output_type": "stream",
     "text": [
      "Largest number is  40\n"
     ]
    }
   ],
   "source": [
    "# 4.Write a Python program to determine the largest of three numbers using if-else.\n",
    "\n",
    "#Code:-\n",
    "\n",
    "a = 40\n",
    "b = 20\n",
    "c = 30\n",
    "\n",
    "if(a > b) and (a > c):\n",
    "    print(\"Largest number is \", a)\n",
    "\n",
    "if(b > a) and (b > c):\n",
    "    print(\"Largest number is \", b)\n",
    "    \n",
    "if(c > a) and (c > b):\n",
    "    print(\"Largest number is \", c)\n"
   ]
  },
  {
   "cell_type": "code",
   "execution_count": 6,
   "id": "5b976312-1643-442c-8659-f3b8e812bfa1",
   "metadata": {},
   "outputs": [
    {
     "data": {
      "text/plain": [
       "10"
      ]
     },
     "execution_count": 6,
     "metadata": {},
     "output_type": "execute_result"
    }
   ],
   "source": [
    "# 5. Write a Python program that calculates the absolute value of a number using if-else.\n",
    "\n",
    "#Code:-\n",
    "\n",
    "\n",
    "num = -10\n",
    "\n",
    "if(num < 0):\n",
    "    num = -(num)\n",
    "    \n",
    "num"
   ]
  },
  {
   "cell_type": "code",
   "execution_count": 12,
   "id": "7c777def-7fb6-4ca3-911d-7e47d97cdc8e",
   "metadata": {},
   "outputs": [
    {
     "name": "stdin",
     "output_type": "stream",
     "text": [
      "Enter any character a\n"
     ]
    },
    {
     "name": "stdout",
     "output_type": "stream",
     "text": [
      "\n",
      "It's a vowel\n"
     ]
    }
   ],
   "source": [
    "# 6. Create a Python program that checks if a given character is a vowel or consonant using if-else.\n",
    "\n",
    "#Code:-\n",
    "\n",
    "vowels = ['a','e','i','o','u']\n",
    "\n",
    "char = input(\"Enter any character\")\n",
    "\n",
    "if char.lower() in vowels:\n",
    "    print(\"\\nIt's a vowel\")\n",
    "else:\n",
    "    print(\"\\nIt's a consonant\")\n",
    "    \n",
    "    "
   ]
  },
  {
   "cell_type": "code",
   "execution_count": 17,
   "id": "7d057e77-bdfa-485f-abaa-b26f1b67afee",
   "metadata": {},
   "outputs": [
    {
     "name": "stdin",
     "output_type": "stream",
     "text": [
      "Enter your age:  23\n"
     ]
    },
    {
     "name": "stdout",
     "output_type": "stream",
     "text": [
      "your are elible to vote\n"
     ]
    }
   ],
   "source": [
    "# 7. Write a Python program to determine if a user is eligible to vote based on their age using if-else.\n",
    "\n",
    "#Code:-\n",
    "\n",
    "age = int(input(\"Enter your age: \"))\n",
    "\n",
    "if(age >= 18):\n",
    "    print(\"your are elible to vote\")\n",
    "else:\n",
    "    print(\"your are not eligible\")\n",
    "\n"
   ]
  },
  {
   "cell_type": "code",
   "execution_count": 22,
   "id": "bdc11e3a-fb53-444c-a40c-7cfcdee637ba",
   "metadata": {},
   "outputs": [
    {
     "name": "stdin",
     "output_type": "stream",
     "text": [
      "Enter purchase amount 323\n"
     ]
    },
    {
     "name": "stdout",
     "output_type": "stream",
     "text": [
      "\n",
      "Thanks for Shoping\n",
      "you get 2 % discount\n"
     ]
    }
   ],
   "source": [
    "# 8. Create a Python program that calculates the discount amount based on the purchase amount using if-else.\n",
    "\n",
    "#Code:-\n",
    "\n",
    "purchase_amount = float(input(\"Enter purchase amount\"))\n",
    "\n",
    "if(purchase_amount >= 1000):\n",
    "    print(\"\\nYou get 3% discount on your purchase\")\n",
    "    \n",
    "elif(purchase_amount >= 5000):\n",
    "    print(\"\\nYou get 5% discount on your purchase\")\n",
    "    \n",
    "elif(purchase_amount >= 1000):\n",
    "    print(\"\\nYou get 10% discount on your purchase\")\n",
    "    \n",
    "print(\"\\nThanks for Shoping\\nyou get 2 % discount\")"
   ]
  },
  {
   "cell_type": "code",
   "execution_count": 58,
   "id": "eef27eb6-9357-4e89-aed4-64dfe94b30c9",
   "metadata": {},
   "outputs": [
    {
     "name": "stdin",
     "output_type": "stream",
     "text": [
      "Enter any number 34\n"
     ]
    },
    {
     "name": "stdout",
     "output_type": "stream",
     "text": [
      "The number is in specified range\n"
     ]
    }
   ],
   "source": [
    "# 9. Write a Python program to check if a number is within a specified range using if-else.\n",
    "\n",
    "#Code:-\n",
    "\n",
    "number = int(input(\"Enter any number\"))\n",
    "\n",
    "if 0 <= number <= 100:\n",
    "    print(\"The number is in specified range\")\n",
    "else:\n",
    "    print(\"Number is not in specified range\")\n"
   ]
  },
  {
   "cell_type": "code",
   "execution_count": 24,
   "id": "bf2cdb51-687c-4549-ab16-ec06badea8fc",
   "metadata": {},
   "outputs": [
    {
     "name": "stdout",
     "output_type": "stream",
     "text": [
      "B Grade\n"
     ]
    }
   ],
   "source": [
    "# 10. Create a Python program that determines the grade of a student based on their score using if-else.\n",
    "\n",
    "#Code:-\n",
    "\n",
    "score = 80\n",
    "\n",
    "if(score >= 85):\n",
    "    print(\"A Grade\")\n",
    "if(score >= 75 and score <= 85):\n",
    "    print(\"B Grade\")\n",
    "if(score >= 60 and score <= 75):\n",
    "    print(\"C Grade\")\n",
    "if(score >= 50 and score <= 60):\n",
    "    print(\"D Grade\")\n",
    "if(score <= 50):\n",
    "    Print(\"Fail\")"
   ]
  },
  {
   "cell_type": "code",
   "execution_count": 26,
   "id": "a584d4c2-0d13-4efc-96c4-6d4c519e6e97",
   "metadata": {},
   "outputs": [
    {
     "name": "stdout",
     "output_type": "stream",
     "text": [
      "String is empty\n"
     ]
    }
   ],
   "source": [
    "# 11. Write a Python program to check if a string is empty or not using if-else.\n",
    "\n",
    "#Code:-\n",
    "\n",
    "given_string = \"\"\n",
    "\n",
    "if given_string:\n",
    "    print(\"String is not empty\")\n",
    "else:\n",
    "    print(\"String is empty\")"
   ]
  },
  {
   "cell_type": "code",
   "execution_count": 27,
   "id": "96d5fd08-1c5c-403a-aed0-c2a091d6c026",
   "metadata": {},
   "outputs": [
    {
     "name": "stdin",
     "output_type": "stream",
     "text": [
      "Enter the first angle of triangle: 87\n",
      "Enter the second angle of triangle: 23\n",
      "Enter the third angle of triangle: 44\n"
     ]
    },
    {
     "name": "stdout",
     "output_type": "stream",
     "text": [
      "\n",
      "Its a Acute Triangle\n"
     ]
    }
   ],
   "source": [
    "# 12. Create a Python program that identifies the type of a triangle (e.g., equilateral, isosceles, or scalene) based on input values using if-else.\n",
    "\n",
    "#Code:-\n",
    "\n",
    "angle_A = int(input(\"Enter the first angle of triangle:\"))\n",
    "angle_B = int(input(\"Enter the second angle of triangle:\"))\n",
    "angle_C = int(input(\"Enter the third angle of triangle:\"))\n",
    "\n",
    "Triangle_type = \"Triangle\"\n",
    "\n",
    "if(angle_A < 90 and angle_B < 90 and angle_C < 90):\n",
    "    Triangle_type = \"Acute Triangle\"\n",
    "    \n",
    "elif(angle_A == 90 and angle_B < 90 and angle_C < 90):\n",
    "    Triangle_type = \"Right Triangle\"\n",
    "\n",
    "elif(angle_A < 90 and angle_B == 90 and angle_C < 90):\n",
    "    Triangle_type = \"Right Triangle\"\n",
    "    \n",
    "elif(angle_A < 90 and angle_B < 90 and angle_C == 90):\n",
    "    Triangle_type = \"Right Triangle\"\n",
    "    \n",
    "elif(angle_A > 90 and angle_B < 90 and angle_C < 90):\n",
    "    Triangle_type = \"Obtuse Triangle\"\n",
    "    \n",
    "elif(angle_A < 90 and angle_B > 90 and angle_C <90):\n",
    "    Triangle_type = \"Obtuse Triangle\"\n",
    "    \n",
    "elif(angle_A <90 and angle_B < 90 and angle_C > 90):\n",
    "    Triangle_type = \"Obtuse Triangle\"\n",
    "    \n",
    "print(f\"\\nIts a {Triangle_type}\")"
   ]
  },
  {
   "cell_type": "code",
   "execution_count": 28,
   "id": "84ebfb00-b49b-4f92-a359-e15737b5a468",
   "metadata": {},
   "outputs": [
    {
     "name": "stdout",
     "output_type": "stream",
     "text": [
      "Day is Saturday\n"
     ]
    }
   ],
   "source": [
    "# 13. Write a Python program to determine the day of the week based on a user-provided number using if-else.\n",
    "\n",
    "#Code:-\n",
    "\n",
    "day = 6\n",
    "\n",
    "if(day > 0):\n",
    "    if(day <= 7):\n",
    "        if(day == 1):\n",
    "            print(\"Day is Monday\")\n",
    "        if(day == 2):\n",
    "            print(\"Day is Tuesday\")\n",
    "        if(day == 3):\n",
    "            print(\"Day is Wednesday\")\n",
    "        if(day == 4):\n",
    "            print(\"Day is Thursday\")\n",
    "        if(day == 5):\n",
    "            print(\"Day is Friday\")\n",
    "        if(day == 6):\n",
    "            print(\"Day is Saturday\")\n",
    "        if(day == 7):\n",
    "            print(\"Day is Sunday\")\n",
    "    else:\n",
    "        print(\"Invalid Day\")     \n",
    "else:\n",
    "    print(\"Invalid Day\")"
   ]
  },
  {
   "cell_type": "code",
   "execution_count": 2,
   "id": "dbbdcc4d-d1b7-44ea-8ac9-7718124d38b5",
   "metadata": {},
   "outputs": [
    {
     "name": "stdout",
     "output_type": "stream",
     "text": [
      "Year is not a leap year\n"
     ]
    }
   ],
   "source": [
    "# 14. Create a Python program that checks if a given year is a leap year using both if-else and a function.\n",
    "\n",
    "#Code:-\n",
    "\n",
    "def check_leap_year(year):\n",
    "    \n",
    "    if year % 4 == 0:\n",
    "        return True\n",
    "    else:\n",
    "        return False\n",
    "    \n",
    "if __name__ == \"__main__\":\n",
    "    \n",
    "    year = 2002\n",
    "    if check_leap_year(year):\n",
    "        print(\"Year is a leap year: \")\n",
    "    else:\n",
    "        print(\"Year is not a leap year\")"
   ]
  },
  {
   "cell_type": "code",
   "execution_count": 9,
   "id": "aa15de92-1bdf-491f-a5e8-789fcf58d98c",
   "metadata": {},
   "outputs": [
    {
     "ename": "AssertionError",
     "evalue": "Division with 0 is not allowed",
     "output_type": "error",
     "traceback": [
      "\u001b[0;31m---------------------------------------------------------------------------\u001b[0m",
      "\u001b[0;31mAssertionError\u001b[0m                            Traceback (most recent call last)",
      "Cell \u001b[0;32mIn[9], line 13\u001b[0m\n\u001b[1;32m      9\u001b[0m     \u001b[38;5;28;01mreturn\u001b[39;00m a\u001b[38;5;241m/\u001b[39mb\n\u001b[1;32m     11\u001b[0m \u001b[38;5;28;01mif\u001b[39;00m \u001b[38;5;18m__name__\u001b[39m \u001b[38;5;241m==\u001b[39m \u001b[38;5;124m\"\u001b[39m\u001b[38;5;124m__main__\u001b[39m\u001b[38;5;124m\"\u001b[39m:\n\u001b[0;32m---> 13\u001b[0m      \u001b[38;5;28mprint\u001b[39m(\u001b[43mdivide\u001b[49m\u001b[43m(\u001b[49m\u001b[38;5;241;43m10\u001b[39;49m\u001b[43m,\u001b[49m\u001b[43m \u001b[49m\u001b[38;5;241;43m0\u001b[39;49m\u001b[43m)\u001b[49m)\n",
      "Cell \u001b[0;32mIn[9], line 7\u001b[0m, in \u001b[0;36mdivide\u001b[0;34m(a, b)\u001b[0m\n\u001b[1;32m      5\u001b[0m \u001b[38;5;28;01mdef\u001b[39;00m \u001b[38;5;21mdivide\u001b[39m(a, b):\n\u001b[0;32m----> 7\u001b[0m     \u001b[38;5;28;01massert\u001b[39;00m b \u001b[38;5;241m!=\u001b[39m \u001b[38;5;241m0\u001b[39m, \u001b[38;5;124m\"\u001b[39m\u001b[38;5;124mDivision with 0 is not allowed\u001b[39m\u001b[38;5;124m\"\u001b[39m\n\u001b[1;32m      9\u001b[0m     \u001b[38;5;28;01mreturn\u001b[39;00m a\u001b[38;5;241m/\u001b[39mb\n",
      "\u001b[0;31mAssertionError\u001b[0m: Division with 0 is not allowed"
     ]
    }
   ],
   "source": [
    "# 15. How do you use the \"assert\" statement in Python to add debugging checks within if-else blocks?\n",
    "\n",
    "#Code:-\n",
    "\n",
    "def divide(a, b):\n",
    "    \n",
    "    assert b != 0, \"Division with 0 is not allowed\"\n",
    "    \n",
    "    return a/b\n",
    "\n",
    "if __name__ == \"__main__\":\n",
    "    \n",
    "     print(divide(10, 0))"
   ]
  },
  {
   "cell_type": "code",
   "execution_count": 10,
   "id": "c3a6b0ed-40db-485f-b87b-4a37a50978d5",
   "metadata": {},
   "outputs": [
    {
     "name": "stdin",
     "output_type": "stream",
     "text": [
      "Enter your age:  67\n"
     ]
    },
    {
     "name": "stdout",
     "output_type": "stream",
     "text": [
      "Congratulations! You are eligible for a senior citizen discount.\n"
     ]
    }
   ],
   "source": [
    "# 16. Create a Python program that determines the eligibility of a person for a senior citizen discount based on age using if-else.\n",
    "\n",
    "#Code:-\n",
    "\n",
    "# Input the person's age\n",
    "age = int(input(\"Enter your age: \"))\n",
    "\n",
    "# Check if the person is eligible for a senior citizen discount\n",
    "if age >= 60:\n",
    "    print(\"Congratulations! You are eligible for a senior citizen discount.\")\n",
    "else:\n",
    "    print(\"Sorry, you are not eligible for a senior citizen discount.\")\n"
   ]
  },
  {
   "cell_type": "code",
   "execution_count": 12,
   "id": "ec7ad8ab-c401-432a-8a59-56bbc6a8eed6",
   "metadata": {},
   "outputs": [
    {
     "name": "stdout",
     "output_type": "stream",
     "text": [
      "It's a lower case character\n"
     ]
    }
   ],
   "source": [
    "# 17. Write a Python program to categorize a given character as uppercase, lowercase, or neither using if-else.\n",
    "\n",
    "#Code:-\n",
    "\n",
    "char = 'a'\n",
    "\n",
    "if 'a' <= char <= 'z':\n",
    "    print(\"It's a lower case character\")\n",
    "\n",
    "elif 'A' <= char <= 'Z':\n",
    "    print(\"It's a upper case character\")"
   ]
  },
  {
   "cell_type": "code",
   "execution_count": 13,
   "id": "737e6e17-5807-46ae-8ff2-21cad5f16e12",
   "metadata": {},
   "outputs": [],
   "source": [
    "# 18. Write a Python program to determine the roots of a quadratic equation using if-else.\n",
    "\n",
    "#Code:-\n",
    "\n",
    "import math\n",
    "\n",
    "# Input coefficients\n",
    "a = float(input(\"Enter the coefficient 'a': \"))\n",
    "b = float(input(\"Enter the coefficient 'b': \"))\n",
    "c = float(input(\"Enter the coefficient 'c': \"))\n",
    "\n",
    "# Calculate the discriminant\n",
    "discriminant = b**2 - 4*a*c\n",
    "\n",
    "# Use if-else statements to determine the roots\n",
    "if discriminant > 0:\n",
    "    # Two real and distinct roots\n",
    "    root1 = (-b + math.sqrt(discriminant)) / (2*a)\n",
    "    root2 = (-b - math.sqrt(discriminant)) / (2*a)\n",
    "    print(f\"The roots are real and distinct: {root1} and {root2}\")\n",
    "elif discriminant == 0:\n",
    "    # One real root (double root)\n",
    "    root = -b / (2*a)\n",
    "    print(f\"The root is real and equal: {root}\")\n",
    "else:\n",
    "    # Complex roots\n",
    "    real_part = -b / (2*a)\n",
    "    imaginary_part = math.sqrt(abs(discriminant)) / (2*a)\n",
    "    print(f\"The roots are complex: {real_part} + {imaginary_part}i and {real_part} - {imaginary_part}i\")"
   ]
  },
  {
   "cell_type": "code",
   "execution_count": 19,
   "id": "1c4ee4c9-8e68-47bb-b0e6-29fa2388b78b",
   "metadata": {},
   "outputs": [
    {
     "name": "stdout",
     "output_type": "stream",
     "text": [
      "Year is a century year\n"
     ]
    }
   ],
   "source": [
    "# 19. Create a Python program that checks if a given year is a century year or not using if-else.\n",
    "\n",
    "#Code:-\n",
    "\n",
    "year = 2000\n",
    "\n",
    "if year % 100 == 0:\n",
    "    print(\"Year is a century year\")\n",
    "else:\n",
    "    print(\"Year is not a century year\")\n"
   ]
  },
  {
   "cell_type": "code",
   "execution_count": 49,
   "id": "0f63b957-b7d1-4272-9251-b2a527b10c79",
   "metadata": {},
   "outputs": [
    {
     "name": "stdin",
     "output_type": "stream",
     "text": [
      "Enter a number 64\n"
     ]
    },
    {
     "name": "stdout",
     "output_type": "stream",
     "text": [
      "Number is a perfect square \n"
     ]
    }
   ],
   "source": [
    "# 20. Write a Python program to determine if a given number is a perfect square using if-else.\n",
    "\n",
    "#Code:-\n",
    "\n",
    "import math\n",
    "\n",
    "number = int(input(\"Enter a number\"))\n",
    "\n",
    "square_root = math.sqrt(number)\n",
    "\n",
    "if square_root * square_root == number:\n",
    "    print(\"Number is a perfect square \")\n",
    "    \n",
    "else:\n",
    "    print(\"Number is not a perfect square\")"
   ]
  },
  {
   "cell_type": "markdown",
   "id": "8d209fc6-e41d-4159-a64e-5d49fc95c781",
   "metadata": {},
   "source": [
    "# 21. Explain the purpose of the \"continue\" and \"break\" statements within if-else loops.\n",
    "\n",
    "#Code:-\n",
    "\n",
    "Break Statement:\n",
    "\n",
    "The break statement is used to prematurely exit a loop. When a break statement is encountered within a loop, the loop is terminated immediately, and the program continues with the first statement after the loop.\n",
    "\n",
    "Example:\n",
    "\n",
    "python\n",
    "Copy code\n",
    "for i in range(1, 11):\n",
    "    if i == 5:\n",
    "        break\n",
    "    print(i)\n",
    "In this example, the loop will print numbers from 1 to 4, and when i becomes 5, the break statement is encountered, causing the loop to terminate.\n",
    "\n",
    "Use cases:\n",
    "\n",
    "To exit a loop when a specific condition is met, allowing you to avoid unnecessary iterations.\n",
    "To implement error handling or stop a loop when an unexpected condition arises.\n",
    "continue Statement:\n",
    "\n",
    "The continue statement is used to skip the current iteration of a loop and move to the next one. When a continue statement is encountered, the current iteration is aborted, and the loop proceeds with the next iteration.\n",
    "\n",
    "Example:\n",
    "\n",
    "python\n",
    "Copy code\n",
    "for i in range(1, 11):\n",
    "    if i % 2 == 0:\n",
    "        continue\n",
    "    print(i)\n",
    "In this example, the loop will print odd numbers (1, 3, 5, 7, 9) by skipping even numbers.\n",
    "\n",
    "Use cases:\n",
    "\n",
    "To skip specific iterations of a loop based on a condition while continuing with the rest of the loop.\n",
    "To avoid executing certain code when a particular condition is met, without terminating the loop entirely."
   ]
  },
  {
   "cell_type": "code",
   "execution_count": 17,
   "id": "e3b4e2da-a7af-4b30-b4c2-0d5c78b65880",
   "metadata": {},
   "outputs": [],
   "source": [
    "# 22. Create a Python program that calculates the BMI (Body Mass Index) of a person based on their weight and height using if-else.\n",
    "\n",
    "#Code:-\n",
    "\n",
    "weight = float(input(\"Enter your weight in kg: \"))\n",
    "\n",
    "height = float(input(\"Enter your height in cm: \"))\n",
    "\n",
    "height = height / 100\n",
    "\n",
    "BMI = weight / height**2\n",
    "\n",
    "weight_check = \"\"\n",
    "\n",
    "\n",
    "if(BMI < 18.5):\n",
    "    weight_check = \"Under_Weight\"\n",
    "\n",
    "elif(18.5 <= BMI <= 24.9):\n",
    "    weight_check = \"Normal_Weight\"\n",
    "    \n",
    "elif(25 <= BMI <= 29.9):\n",
    "    weight_check = \"Over_Weight\"\n",
    "\n",
    "elif(30 <= BMI <= 34.9):\n",
    "    weight_check = \"Obesity (class 1)\"\n",
    "\n",
    "elif(35 <= BMI <= 39.9):\n",
    "    weight_check = \"Obesity (class 2)\"\n",
    "\n",
    "else:\n",
    "    weight_check = \"Severe Obesity (class 3)\"\n",
    "\n",
    "    \n",
    "\n",
    "if(weight_check == \"Normal_Weight\"):\n",
    "    print(f'''\\nYou have {weight_check} \n",
    "\\nIf a person falls within the \"Normal weight\" BMI category (18.5 to 24.9),\n",
    "it suggests that their weight is generally considered healthy for their height.\n",
    "However, other health factors should also be considered, such as diet, physical activity,\n",
    "and overall well-being. A recommendation may include maintaining a balanced diet, staying physically active,\n",
    "and regular health check-ups to ensure overall health.''')\n",
    "\n",
    "    \n",
    "elif(weight_check == \"Under_Weight\"):\n",
    "    print(f'''\\nYou are {weight_check} \n",
    "\\nIndividuals who are underweight may be at risk of nutritional deficiencies.\n",
    "A recommendation could include consulting with a healthcare provider or dietitian to develop a healthy eating plan to gain weight in a safe and balanced way.\n",
    "''')\n",
    "\n",
    "    \n",
    "elif(weight_check == \"Over_Weight\"):\n",
    "    print(f'''\\nYou are {weight_check}\n",
    "\\nIndividuals in these categories may be at risk for various health issues, including heart disease, diabetes, and more.\n",
    "Recommendations often include making lifestyle changes such as adopting a healthier diet, increasing physical activity, and seeking guidance from a healthcare provider or nutritionist for personalized advice.\n",
    "''')\n",
    "\n",
    "\n",
    "    \n",
    "elif(weight_check == \"Obesity (class 1)\"):\n",
    "    print(f'''\\nYou are {weight_check}\n",
    "\\nIndividuals in these categories may be at risk for various health issues, including heart disease, diabetes, and more.\n",
    "Recommendations often include making lifestyle changes such as adopting a healthier diet, increasing physical activity, and seeking guidance from a healthcare provider or nutritionist for personalized advice.\n",
    "''')\n",
    "    \n",
    "    \n",
    "elif(weight_check == \"Obesity (class 2)\"):\n",
    "    print(f'''\\nYou are {weight_check}\n",
    "\\nIndividuals in these categories may be at risk for various health issues, including heart disease, diabetes, and more.\n",
    "Recommendations often include making lifestyle changes such as adopting a healthier diet, increasing physical activity, and seeking guidance from a healthcare provider or nutritionist for personalized advice.\n",
    "''')\n",
    "    \n",
    "    \n",
    "elif(weight_check == \"Severe Obesity (class 3)\"):\n",
    "     print(f'''\\nYou are {weight_check}\n",
    "\\nIndividuals in these categories may be at risk for various health issues, including heart disease, diabetes, and more.\n",
    "Recommendations often include making lifestyle changes such as adopting a healthier diet, increasing physical activity, and seeking guidance from a healthcare provider or nutritionist for personalized advice.\n",
    "''')"
   ]
  },
  {
   "cell_type": "code",
   "execution_count": 18,
   "id": "ff27e249-52a0-44b2-93d8-446e55a91d6c",
   "metadata": {},
   "outputs": [],
   "source": [
    "# 23. How can you use the \"filter()\" function with if-else statements to filter elements from a list?\n",
    "\n",
    "#Code:-\n",
    "\n",
    "# Define a list of numbers\n",
    "numbers = [1, 2, 3, 4, 5, 6, 7, 8, 9, 10]\n",
    "\n",
    "# Define a filtering function\n",
    "def is_even(number):\n",
    "    if number % 2 == 0:\n",
    "        return True  # Keep even numbers\n",
    "    else:\n",
    "        return False  # Exclude odd numbers\n",
    "\n",
    "# Use filter() to filter even numbers\n",
    "filtered_numbers = filter(is_even, numbers)\n",
    "\n",
    "# Convert the filtered result to a list (if needed)\n",
    "even_numbers = list(filtered_numbers)\n",
    "\n",
    "# Print the even numbers\n",
    "print(\"Even numbers:\", even_numbers)"
   ]
  },
  {
   "cell_type": "code",
   "execution_count": 1,
   "id": "ae068a66-c15e-42df-a390-af90b8987253",
   "metadata": {},
   "outputs": [
    {
     "name": "stdin",
     "output_type": "stream",
     "text": [
      "Enter any number 3\n"
     ]
    },
    {
     "name": "stdout",
     "output_type": "stream",
     "text": [
      "Number is a prime number\n"
     ]
    }
   ],
   "source": [
    "# 24. Write a Python program to determine if a given number is prime or not using if-else.\n",
    "\n",
    "#Code:-\n",
    "\n",
    "def check_prime(number, divisor):\n",
    "    \n",
    "    if(number <= 1):\n",
    "        return False\n",
    "    \n",
    "    elif(number == 2):\n",
    "        return True\n",
    "    \n",
    "    elif(number % divisor == 0):\n",
    "        return False\n",
    "    \n",
    "    elif(int(number ** 0.5) + 2 == divisor):\n",
    "        return False\n",
    "    \n",
    "    return(number, divisor+1)\n",
    "\n",
    "divisor = 2\n",
    "\n",
    "if __name__ == \"__main__\":\n",
    "    \n",
    "    number = int(input(\"Enter any number\"))\n",
    "    \n",
    "    if check_prime(number, divisor):\n",
    "        print(\"Number is a prime number\")\n",
    "        \n",
    "    else:\n",
    "        print(\"Number is not a prime number\")\n",
    "        "
   ]
  },
  {
   "cell_type": "code",
   "execution_count": 2,
   "id": "1e0cc3c6-f4b7-418b-b48f-689e3a82b440",
   "metadata": {},
   "outputs": [],
   "source": [
    "#************************************************************************************************************#\n",
    "#****************************************** MAP PROBLEM QUESTIONS *******************************************#\n",
    "#************************************************************************************************************#"
   ]
  },
  {
   "cell_type": "code",
   "execution_count": 5,
   "id": "6fc23186-8cde-40c7-a69c-c3fe64dd867c",
   "metadata": {},
   "outputs": [
    {
     "data": {
      "text/plain": [
       "[1, 4, 9, 16, 25, 36, 49, 64, 81, 100]"
      ]
     },
     "execution_count": 5,
     "metadata": {},
     "output_type": "execute_result"
    }
   ],
   "source": [
    "''' 1. Explain the purpose of the `map()` function in Python and provide an example of how it can be used to apply a function \n",
    "to each element of an iterable.'''\n",
    "\n",
    "#Code:-\n",
    "\n",
    "'''Map :-\n",
    "\n",
    "The map function in python takes one by one elements form the iterable (such as list, tuple, or any other iterable)\n",
    "\n",
    "and apply a function to all the varialbles one by one and returns the iterator.\n",
    "\n",
    "This is an effiencient way of applying function to all the variables without any explicit loop.'''\n",
    "\n",
    "\n",
    "#Example\n",
    "\n",
    "def square(n):\n",
    "    return n**2\n",
    "\n",
    "\n",
    "numbers = [1,2,3,4,5,6,7,8,9,10]\n",
    "\n",
    "\n",
    "squared_numbers = list(map(square, numbers))\n",
    "\n",
    "squared_numbers"
   ]
  },
  {
   "cell_type": "code",
   "execution_count": 8,
   "id": "59bb97aa-4500-426e-81cf-25c007073e1b",
   "metadata": {},
   "outputs": [
    {
     "name": "stdout",
     "output_type": "stream",
     "text": [
      "[1, 4, 9, 16, 25, 36, 49, 64, 81, 100]\n"
     ]
    }
   ],
   "source": [
    "# 2. Write a Python program that uses the `map()` function to square each element of a list of numbers.\n",
    "\n",
    "#Code:-\n",
    "\n",
    "numbers = [1,2,3,4,5,6,7,8,9,10]\n",
    "\n",
    "squared_numbers = list(map(lambda x: x**2, numbers))\n",
    "\n",
    "print(squared_numbers)"
   ]
  },
  {
   "cell_type": "markdown",
   "id": "d8a520f5-a6e4-45cf-9629-18a4360c34b8",
   "metadata": {},
   "source": [
    "# 3. How does the `map()` function differ from a list comprehension in Python, and when would you choose one over the other ?\n",
    "\n",
    "The map() function and list comprehensions in Python both serve as tools for transforming elements in an iterable, but they have distinct differences in terms of syntax and use cases. Here's a comparison of the two and when you might choose one over the other:\n",
    "\n",
    "1. Syntax:\n",
    "map() is a built-in function that takes two arguments: a function and an iterable. It returns an iterator. The function is applied to each element in the iterable.\n",
    "List comprehensions are a more concise and direct way to create a new list by specifying the transformation and the source iterable within a single expression.\n",
    "2. Readability:\n",
    "\n",
    "List comprehensions are often considered more Pythonic and are generally more readable for simple transformations. They express the transformation and the iterable in one line, making the code more concise.\n",
    "map() may require defining a separate function, which can make the code less concise, especially for simple operations.\n",
    "3. Use of Functions:\n",
    "\n",
    "map() is well-suited for cases where you have a predefined function that you want to apply to all elements of an iterable. It's handy for reusing functions and can promote code reusability.\n",
    "List comprehensions are used for more straightforward, one-off operations or when the transformation logic is simple and doesn't require a separate function.\n",
    "4. Lazy Evaluation:\n",
    "\n",
    "map() returns an iterator that is evaluated lazily. This means elements are generated one at a time as needed, which can be more memory-efficient when working with large iterables.\n",
    "List comprehensions create a list in memory immediately, which may not be memory-efficient for very large datasets.\n",
    "5. Complex Transformations:\n",
    "\n",
    "List comprehensions are versatile and can handle more complex transformations, including conditional filtering and nested iterations, making them more suitable for intricate operations.\n",
    "map() can become less readable when dealing with complex operations, as you may need to define functions or use lambda functions, which can make the code more verbose.\n",
    "When to Choose One Over the Other:\n",
    "\n",
    "Use map() when:\n",
    "\n",
    "You have a predefined function that you want to apply to all elements in an iterable.\n",
    "You want lazy evaluation for memory efficiency, especially with large datasets.\n",
    "You need to promote code reusability by using the same function in multiple places.\n",
    "\n",
    "Use list comprehensions when:\n",
    "\n",
    "You have a straightforward, one-off operation to perform on each element of an iterable.\n",
    "Your transformation logic is simple and doesn't warrant a separate function.\n",
    "You want a more concise and readable way to express the transformation for simple cases.\n",
    "You need to filter elements based on a condition or perform nested iterations."
   ]
  },
  {
   "cell_type": "code",
   "execution_count": 13,
   "id": "53d6007f-849e-41f2-9f0e-a03c6026f8cb",
   "metadata": {},
   "outputs": [
    {
     "name": "stdout",
     "output_type": "stream",
     "text": [
      "['ZAMIN', 'RAZA', 'ABBAS', 'BALOCH']\n"
     ]
    }
   ],
   "source": [
    "# 4. Create a Python program that uses the `map()` function to convert a list of names to uppercase.\n",
    "\n",
    "#Code:-\n",
    "\n",
    "list1 = [\"zamin\", \"raza\", \"abbas\", \"baloch\"]\n",
    "\n",
    "\n",
    "upper_case_list = list(map(lambda x: x.upper(), list1))\n",
    "\n",
    "print(upper_case_list)"
   ]
  },
  {
   "cell_type": "code",
   "execution_count": 4,
   "id": "c51906f6-14be-499b-af21-e83660ee4556",
   "metadata": {},
   "outputs": [
    {
     "name": "stdout",
     "output_type": "stream",
     "text": [
      "Length of zamin : 5\n",
      "Length of raza : 4\n",
      "Length of abbas : 5\n",
      "Length of baloch : 6\n"
     ]
    }
   ],
   "source": [
    "# 5. Write a Python program that uses the `map()` function to calculate the length of each word in a list of strings.\n",
    "\n",
    "#code:-\n",
    "\n",
    "string = [\"zamin\", \"raza\", \"abbas\", \"baloch\"]\n",
    "\n",
    "words_lengths = list(map(len, string))\n",
    "\n",
    "for i, word in enumerate(string):\n",
    "    print(f\"Length of {word} : {words_lengths[i]}\")"
   ]
  },
  {
   "cell_type": "code",
   "execution_count": 2,
   "id": "b52eb23a-57cf-427e-9026-02ebd3f1757c",
   "metadata": {},
   "outputs": [
    {
     "name": "stdout",
     "output_type": "stream",
     "text": [
      "[2, 12, 30, 56, 90, 132]\n"
     ]
    }
   ],
   "source": [
    "''' 6. How can you use the `map()` function to apply a custom function to elements of multiple lists simultaneously\n",
    "in Python? '''\n",
    "\n",
    "#Code:-\n",
    "\n",
    "def multiply(a, b):\n",
    "    return a*b\n",
    "\n",
    "list1 = [1,3,5,7,9,11]\n",
    "\n",
    "list2 = [2,4,6,8,10,12]\n",
    "\n",
    "ans_list = list(map(multiply, list1,list2))\n",
    "\n",
    "print(ans_list)"
   ]
  },
  {
   "cell_type": "code",
   "execution_count": 24,
   "id": "214b82d3-7b26-46d9-a7e4-1ee5c97b2b34",
   "metadata": {},
   "outputs": [
    {
     "name": "stdout",
     "output_type": "stream",
     "text": [
      "45.3 C to 113.53999999999999 F\n",
      "67.4 C to 153.32 F\n",
      "33.5 C to 92.30000000000001 F\n",
      "12.5 C to 54.5 F\n",
      "90.3 C to 194.54 F\n",
      "3.3 C to 37.94 F\n"
     ]
    }
   ],
   "source": [
    "# 7. Create a Python program that uses `map()` to convert a list of temperatures from Celsius to Fahrenheit.\n",
    "\n",
    "#Code:-\n",
    "\n",
    "temprature_in_celcius = [45.3, 67.4, 33.5, 12.5, 90.3, 3.3]\n",
    "\n",
    "temprature_in_farhenheit = list(map(lambda x: x*(9/5) + 32, temprature_in_celcius))\n",
    "\n",
    "for i, celcius in enumerate(temprature_in_celcius):\n",
    "    print(f\"{celcius} C to {temprature_in_farhenheit[i]} F\")"
   ]
  },
  {
   "cell_type": "code",
   "execution_count": 6,
   "id": "0c7032a7-d974-4ecd-b6ec-f589f9a2cd87",
   "metadata": {},
   "outputs": [
    {
     "name": "stdout",
     "output_type": "stream",
     "text": [
      "Original: 3.14 Rounded: 3\n",
      "Original: 5.23 Rounded: 5\n",
      "Original: 5.32 Rounded: 5\n",
      "Original: 6.77 Rounded: 7\n",
      "Original: 23.3433 Rounded: 23\n",
      "Original: 4.9 Rounded: 5\n"
     ]
    }
   ],
   "source": [
    "''' 8. Write a Python program that uses the `map()` function to round each element of a list of floating-point numbers\n",
    "to the nearest integer.'''\n",
    "\n",
    "#Code:-\n",
    "\n",
    "float_list = [3.14, 5.23, 5.32, 6.77, 23.3433, 4.9]\n",
    "\n",
    "rounded_list = list(map(round, float_list))\n",
    "    \n",
    "for i, number in enumerate(float_list):\n",
    "    print(f\"Original: {number} Rounded: {rounded_list[i]}\")"
   ]
  },
  {
   "cell_type": "code",
   "execution_count": 7,
   "id": "ee5f5057-77e2-4867-ad33-2dee9f01d91f",
   "metadata": {},
   "outputs": [],
   "source": [
    "#*********************************************************************************************************#\n",
    "#*************************************** REDUCE FUNCTION *************************************************#\n",
    "#*********************************************************************************************************#"
   ]
  },
  {
   "cell_type": "markdown",
   "id": "90bd2580-1a82-46ac-b938-40e50e5e16d0",
   "metadata": {},
   "source": [
    "''' 1. What is the `reduce()` function in Python, and what module should you import to use it?\n",
    "Provide an example of its basic usage.'''\n",
    "\n",
    "#Code:-\n",
    "\n",
    "The reduce() function in Python is a part of the functools module and is used for cumulative computation. It applies a given function to the items of an iterable, progressively reducing the iterable to a single accumulated result. The reduce() function is commonly used for tasks that involve accumulating or aggregating values within a sequence.\n",
    "\n",
    "Here's a basic overview of the reduce() function and an example of its usage:\n",
    "\n",
    "Syntax:\n",
    "\n",
    "python\n",
    "Copy code\n",
    "functools.reduce(function, iterable, initializer)\n",
    "function: The function to apply cumulatively to the items of the iterable. It should take two arguments.\n",
    "iterable: The iterable, such as a list, tuple, or string, whose elements will be reduced.\n",
    "initializer (optional): An initial value used as the first argument to the function. If omitted, the first two items in the iterable are used as the initial values.\n",
    "Example:\n",
    "\n",
    "Suppose you want to use the reduce() function to find the sum of all elements in a list of numbers:\n",
    "\n",
    "python\n",
    "Copy code\n",
    "import functools\n",
    "\n",
    "# Define a function to add two numbers\n",
    "def add(x, y):\n",
    "    return x + y\n",
    "\n",
    "# List of numbers\n",
    "numbers = [1, 2, 3, 4, 5]\n",
    "\n",
    "# Use reduce() to find the sum of all numbers\n",
    "result = functools.reduce(add, numbers)\n",
    "\n",
    "print(\"Sum of all numbers:\", result)\n",
    "In this example:\n",
    "\n",
    "We import the functools module to access the reduce() function.\n",
    "\n",
    "We define a custom function add(x, y) that takes two arguments and returns their sum. This function will be applied cumulatively to the elements of the list.\n",
    "\n",
    "We have a list of numbers in the numbers variable.\n",
    "\n",
    "We use the reduce() function to apply the add function cumulatively to the elements of the numbers list. The result is the sum of all the numbers.\n",
    "\n",
    "The output will be:\n",
    "\n",
    "Sum of all numbers: 15\n",
    "\n",
    "In this case, the reduce() function was used to successively apply the add() function to the elements of the list, ultimately calculating the sum of all the numbers in the list."
   ]
  },
  {
   "cell_type": "code",
   "execution_count": 9,
   "id": "bcf5c562-a462-41c0-b671-5e541381cc82",
   "metadata": {},
   "outputs": [
    {
     "name": "stdout",
     "output_type": "stream",
     "text": [
      "362880\n"
     ]
    }
   ],
   "source": [
    "# 2. Write a Python program that uses the `reduce()` function to find the product of all elements in a list.\n",
    "\n",
    "#Code:-\n",
    "\n",
    "import functools\n",
    "\n",
    "list1 = [1,2,3,4,5,6,7,8,9]\n",
    "\n",
    "product = functools.reduce(lambda a, b: a*b, list1)\n",
    "\n",
    "print(product)"
   ]
  },
  {
   "cell_type": "code",
   "execution_count": 14,
   "id": "76854a06-6f79-4a52-8851-3b8094f96db2",
   "metadata": {},
   "outputs": [
    {
     "name": "stdout",
     "output_type": "stream",
     "text": [
      "Maximum Number: 11\n"
     ]
    }
   ],
   "source": [
    "# 3. Create a Python program that uses `reduce()` to find the maximum element in a list of numbers.\n",
    "\n",
    "#Code:-\n",
    "\n",
    "import functools\n",
    "\n",
    "def MaxNum(a,b):\n",
    "    if a > b:\n",
    "        return a\n",
    "    else:\n",
    "        return b\n",
    "\n",
    "    \n",
    "list1 = [1,2,3,4,5,11,7,8,9]\n",
    "\n",
    "MaxNum = functools.reduce(MaxNum, list1)\n",
    "\n",
    "print(f\"Maximum Number: {MaxNum}\")"
   ]
  },
  {
   "cell_type": "code",
   "execution_count": 17,
   "id": "e48dae3a-3602-42b7-8b6e-59d5ba71f8b7",
   "metadata": {},
   "outputs": [
    {
     "data": {
      "text/plain": [
       "'zamin abbas raza khan'"
      ]
     },
     "execution_count": 17,
     "metadata": {},
     "output_type": "execute_result"
    }
   ],
   "source": [
    "# 4. How can you use the `reduce()` function to concatenate a list of strings into a single string?\n",
    "\n",
    "#Code:-\n",
    "\n",
    "import functools\n",
    "\n",
    "def concatenate(s1, s2):\n",
    "    return s1 + \" \" + s2\n",
    "\n",
    "\n",
    "list_of_strings = [\"zamin\", \"abbas\", \"raza\", \"khan\"]\n",
    "\n",
    "\n",
    "string = functools.reduce(concatenate, list_of_strings)\n",
    "\n",
    "string"
   ]
  },
  {
   "cell_type": "code",
   "execution_count": 20,
   "id": "8273037a-e8a7-459e-8f46-2d4c7cd6d59b",
   "metadata": {},
   "outputs": [
    {
     "name": "stdin",
     "output_type": "stream",
     "text": [
      "Enter number to find factorial 5\n"
     ]
    },
    {
     "name": "stdout",
     "output_type": "stream",
     "text": [
      "Factorial of Number 5 is 120\n"
     ]
    }
   ],
   "source": [
    "# 5. Write a Python program that calculates the factorial of a number using the `reduce()` function.\n",
    "\n",
    "#Code:-\n",
    "\n",
    "import functools\n",
    "\n",
    "num = int(input(\"Enter number to find factorial\"))\n",
    "\n",
    "fact = functools.reduce(lambda a,b: a*b, range(1,num+1))\n",
    "\n",
    "print(f\"Factorial of Number {num} is {fact}\")"
   ]
  },
  {
   "cell_type": "code",
   "execution_count": 30,
   "id": "f6541d60-8eda-4470-a6d5-2fc4c7c319ab",
   "metadata": {},
   "outputs": [
    {
     "name": "stdout",
     "output_type": "stream",
     "text": [
      "GCD of the numbers: 2\n"
     ]
    }
   ],
   "source": [
    "# 6. Create a Python program that uses `reduce()` to find the GCD (Greatest Common Divisor) of a list of numbers.\n",
    "\n",
    "#Code:-\n",
    "\n",
    "import functools\n",
    "\n",
    "def gcd(a,b):\n",
    "    \n",
    "    if(b > a):\n",
    "        a,b = b,a\n",
    "        \n",
    "    while(b != 0):\n",
    "        a,b = b, a%b\n",
    "        \n",
    "    return a\n",
    "\n",
    "\n",
    "list1 = [12,2,4,4,6,6,16,8,88]\n",
    "\n",
    "gcd_of_numbers = functools.reduce(gcd, list1)\n",
    "\n",
    "print(f\"GCD of the numbers: {gcd_of_numbers}\")"
   ]
  },
  {
   "cell_type": "code",
   "execution_count": 33,
   "id": "26aa290a-4f4c-42b4-89d2-bf52068018b9",
   "metadata": {},
   "outputs": [
    {
     "name": "stdin",
     "output_type": "stream",
     "text": [
      "Enter any number:  123456\n"
     ]
    },
    {
     "name": "stdout",
     "output_type": "stream",
     "text": [
      "Digits sum of number 123456 is: 21\n"
     ]
    }
   ],
   "source": [
    "# 7. Write a Python program that uses the `reduce()` function to find the sum of the digits of a given number.\n",
    "\n",
    "#Code:-\n",
    "\n",
    "from functools import reduce\n",
    "\n",
    "num = int(input(\"Enter any number: \"))\n",
    "\n",
    "digits_sum = reduce(lambda a,b: int(a)+int(b), str(num))\n",
    "\n",
    "print(f\"Digits sum of number {num} is: {digits_sum}\")"
   ]
  },
  {
   "cell_type": "code",
   "execution_count": 23,
   "id": "646d95ec-687c-41b2-9e06-e3709189ebf8",
   "metadata": {},
   "outputs": [],
   "source": [
    "#*************************************************************************************************************#\n",
    "#************************************** FILTER PROBLEM QUESTIONS *********************************************#\n",
    "#*************************************************************************************************************#"
   ]
  },
  {
   "cell_type": "markdown",
   "id": "80a48cd8-e060-4243-8a35-e8e6c0dea54c",
   "metadata": {},
   "source": [
    "# 1. Explain the purpose of the `filter()` function in Python and provide an example of how it can be used to filter elements from an iterable.\n",
    "\n",
    "Ans:-\n",
    "\n",
    "The filter() function in Python is used to filter elements from an iterable (such as a list, tuple, or other iterable data structures) based on a specified condition or function. It returns a new iterable containing only the elements for which the condition or function evaluates to True. In other words, it allows you to selectively extract elements that meet certain criteria from the original iterable.\n",
    "\n",
    "The basic syntax of the filter() function is as follows:\n",
    "\n",
    "filter(function, iterable)\n",
    "\n",
    "Example:-\n",
    "\n",
    "list1 = [1,2,3,4,5,6,7,8,9,10]\n",
    "\n",
    "even_list = list(filter(lambda x: x % 2 == 0, list1))\n",
    "\n",
    "print(even_list)"
   ]
  },
  {
   "cell_type": "code",
   "execution_count": 3,
   "id": "8d18b672-16c1-438f-9e04-267b7f4ea1e0",
   "metadata": {},
   "outputs": [
    {
     "name": "stdout",
     "output_type": "stream",
     "text": [
      "[2, 4, 6, 8, 10]\n"
     ]
    }
   ],
   "source": [
    "# 2. Write a Python program that uses the `filter()` function to select even numbers from a list of integers.\n",
    "\n",
    "#Code:-\n",
    "\n",
    "list1 = [1,2,3,4,5,6,7,8,9,10]\n",
    "\n",
    "even_list = list(filter(lambda x: x % 2 == 0, list1))\n",
    "\n",
    "print(even_list)"
   ]
  },
  {
   "cell_type": "code",
   "execution_count": 6,
   "id": "51dd2f61-c90a-46ab-800c-2c8d8ba491a3",
   "metadata": {},
   "outputs": [
    {
     "name": "stdout",
     "output_type": "stream",
     "text": [
      "['zamin', 'zaffar', 'zain']\n"
     ]
    }
   ],
   "source": [
    "# 3. Create a Python program that uses the `filter()` function to select names that start with a specific letter from a list of strings.\n",
    "\n",
    "#Code:-\n",
    "\n",
    "list1 = [\"zamin\", \"zaffar\", \"zain\", \"Ali\", \"ALiyan\",\"boby\"]\n",
    "\n",
    "filtered_names = list(filter(lambda x: x[0] == 'z', list1))\n",
    "\n",
    "print(filtered_names)"
   ]
  },
  {
   "cell_type": "code",
   "execution_count": 9,
   "id": "2982f4a9-74c6-4a6b-a6f6-cd998162568b",
   "metadata": {},
   "outputs": [
    {
     "name": "stdout",
     "output_type": "stream",
     "text": [
      "[2, 3, 5, 7, 23]\n"
     ]
    }
   ],
   "source": [
    "# 4. Write a Python program that uses the `filter()` function to select prime numbers from a list of integers.\n",
    "\n",
    "#Code:-\n",
    "\n",
    "def CheckPrime(x):\n",
    "    \n",
    "    if(x <= 1):\n",
    "        return False\n",
    "    if(x == 2):\n",
    "        return True\n",
    "    \n",
    "    for i in range(2, int(x**0.5)+1):\n",
    "        if(x % i == 0):\n",
    "            return False\n",
    "    return True\n",
    "\n",
    "        \n",
    "numbers = [1,2,3,4,54,5,6,7,8,23]\n",
    "\n",
    "prime_numbers = list(filter(CheckPrime, numbers))\n",
    "\n",
    "print(prime_numbers)"
   ]
  },
  {
   "cell_type": "code",
   "execution_count": 13,
   "id": "303ae583-cb4a-4e50-91a8-de7e7b2582ea",
   "metadata": {},
   "outputs": [
    {
     "name": "stdout",
     "output_type": "stream",
     "text": [
      "[1, 2, 3, 4, 5, 7, 8]\n"
     ]
    }
   ],
   "source": [
    "# 5. How can you use the `filter()` function to remove None values from a list in Python?\n",
    "\n",
    "#Code:-\n",
    "\n",
    "numbers = [1,2,3,None,4,None,5,None,7,8,None]\n",
    "\n",
    "filtered_numbers = list(filter(lambda x: x is not None, numbers))\n",
    "\n",
    "print(filtered_numbers)"
   ]
  },
  {
   "cell_type": "code",
   "execution_count": 14,
   "id": "7165ba40-6486-4ca6-8a43-f1cfb21129e9",
   "metadata": {},
   "outputs": [
    {
     "name": "stdout",
     "output_type": "stream",
     "text": [
      "['Zamin', 'Abbas', 'Jannan']\n"
     ]
    }
   ],
   "source": [
    "# 6. Create a Python program that uses `filter()` to select words longer than a certain length from a list of strings.\n",
    "\n",
    "#Code:-\n",
    "\n",
    "list_of_strings = [\"Zamin\", \"Raza\", \"Abbas\", \"Khan\", \"Jannan\"]\n",
    "\n",
    "words = list(filter(lambda x: len(x) > 4, list_of_strings))\n",
    "\n",
    "print(words)"
   ]
  },
  {
   "cell_type": "code",
   "execution_count": 18,
   "id": "fb600596-a18b-4cfa-ad71-22f40712cad6",
   "metadata": {},
   "outputs": [
    {
     "name": "stdout",
     "output_type": "stream",
     "text": [
      "[100, 200, 60, 111]\n"
     ]
    }
   ],
   "source": [
    "''' 7. Write a Python program that uses the `filter()` function to select elements greater than a specified threshold \n",
    " from a list of values.'''\n",
    "\n",
    "#Code:-\n",
    "\n",
    "values = [10,100,200,50,60,30,111]\n",
    "\n",
    "threshold = 50\n",
    "\n",
    "filtered_values = list(filter(lambda x: x > threshold, values))\n",
    "\n",
    "print(filtered_values)"
   ]
  },
  {
   "cell_type": "code",
   "execution_count": 16,
   "id": "2065183b-0e3d-42fb-8050-f7f91e59cf28",
   "metadata": {},
   "outputs": [],
   "source": [
    "#****************************************************************************************************#\n",
    "#******************************* RECURSION PRATICE PROBLEMS *****************************************#\n",
    "#****************************************************************************************************#"
   ]
  },
  {
   "cell_type": "raw",
   "id": "2f3cae2d-b73d-47d0-8620-364ae78f9983",
   "metadata": {},
   "source": [
    "# 1. Explain the concept of recursion in Python. How does it differ from iteration?\n",
    "\n",
    "\n",
    "Recursion and iteration are two fundamental programming concepts used to solve problems that involve repetitive tasks. In Python, recursion is a technique where a function calls itself to solve a problem, while iteration involves using loops (e.g., for and while loops) to repeatedly execute a block of code. Let's explore the concept of recursion in Python and how it differs from iteration:\n",
    "\n",
    "Recursion in Python:\n",
    "Recursion is a programming technique where a function calls itself to solve a problem by breaking it down into smaller, more manageable subproblems.\n",
    "A recursive function typically has two parts: the base case and the recursive case.\n",
    "The base case is the stopping condition that defines when the function should stop calling itself. Without a base case, the recursive function could run indefinitely and lead to a stack overflow.\n",
    "The recursive case is where the function calls itself with modified arguments, moving closer to the base case.\n",
    "Recursive functions can be elegant and expressive for solving certain types of problems, such as traversing tree structures (e.g., binary trees), calculating factorials, or implementing sorting algorithms (e.g., quicksort or mergesort).\n",
    "Here's a simple example of a recursive function in Python that calculates the factorial of a number:\n",
    "\n",
    "\n",
    "def factorial(n):\n",
    "    if n == 0:\n",
    "        return 1  # Base case\n",
    "    else:\n",
    "        return n * factorial(n - 1)  # Recursive case\n",
    "    \n",
    "    \n",
    "Iteration in Python:\n",
    "Iteration, on the other hand, involves using loops to repeatedly execute a block of code until a specific condition is met.\n",
    "Common iteration constructs in Python include for and while loops. Iteration is well-suited for tasks that involve looping through a collection (e.g., lists, strings, dictionaries) or performing a fixed number of repetitive operations.\n",
    "Unlike recursion, iteration doesn't require a function to call itself, and it often involves maintaining a loop variable and incrementing or decrementing it until a termination condition is met.\n",
    "Here's an example of calculating the factorial of a number using iteration with a for loop:\n",
    "\n",
    "\n",
    "\n",
    "def factorial(n):\n",
    "    result = 1\n",
    "    for i in range(1, n + 1):\n",
    "        result *= i\n",
    "    return result\n",
    "Key differences between recursion and iteration in Python:\n",
    "\n",
    "Recursion uses function calls, which can lead to additional overhead and consume more memory because each function call creates a new stack frame. This can lead to stack overflow errors if not handled properly.\n",
    "Iteration, using loops, typically uses less memory and can be more efficient for simple, repetitive tasks.\n",
    "Recursion is often used when the problem can be naturally divided into smaller, similar subproblems, making it a more intuitive choice in some scenarios.\n",
    "Iteration is usually the preferred choice when dealing with tasks that involve traversing collections, counting, or performing fixed, repetitive operations.\n"
   ]
  },
  {
   "cell_type": "code",
   "execution_count": 24,
   "id": "01038399-55c9-4839-932f-79e7bfea2974",
   "metadata": {},
   "outputs": [
    {
     "name": "stdin",
     "output_type": "stream",
     "text": [
      "Enter number to factorial:  5\n"
     ]
    },
    {
     "name": "stdout",
     "output_type": "stream",
     "text": [
      "\n",
      "Factorial of 5: 120\n"
     ]
    }
   ],
   "source": [
    "# 2. Write a Python program to calculate the factorial of a number using recursion.\n",
    "\n",
    "def factorial(n):\n",
    "    if(n == 1):\n",
    "        return n\n",
    "    \n",
    "    return n * factorial(n-1)\n",
    "    \n",
    "    \n",
    "if __name__ == \"__main__\":\n",
    "    \n",
    "    num = int(input(\"Enter number to factorial: \"))\n",
    "    \n",
    "    fact = factorial(num)\n",
    "    \n",
    "    print(f\"\\nFactorial of {num}: {fact}\")"
   ]
  },
  {
   "cell_type": "code",
   "execution_count": 47,
   "id": "f7ed7cdc-6d4c-4729-be61-5d7fd9d7f1f6",
   "metadata": {},
   "outputs": [
    {
     "name": "stdin",
     "output_type": "stream",
     "text": [
      "Enter nth term to find fibonacci number:  4\n"
     ]
    },
    {
     "name": "stdout",
     "output_type": "stream",
     "text": [
      "3\n"
     ]
    }
   ],
   "source": [
    "# 3. Create a recursive Python function to find the nth Fibonacci number.\n",
    "\n",
    "#Code:-\n",
    "\n",
    "def fibonacci(n):\n",
    "    if n <= 0:\n",
    "        return 0\n",
    "    \n",
    "    elif n == 1:\n",
    "        return 1\n",
    "    \n",
    "    else: \n",
    "        return fibonacci(n-1) + fibonacci(n-2)\n",
    "\n",
    "\n",
    "if __name__ == \"__main__\":\n",
    "    \n",
    "    num = int(input(\"Enter nth term to find fibonacci number: \"))\n",
    "    \n",
    "    fib = fibonacci(num)\n",
    "    \n",
    "    print(fib)"
   ]
  },
  {
   "cell_type": "code",
   "execution_count": 50,
   "id": "fe445a7e-6ddc-4118-aeff-d6a5aa52b56d",
   "metadata": {},
   "outputs": [
    {
     "name": "stdout",
     "output_type": "stream",
     "text": [
      "39\n"
     ]
    }
   ],
   "source": [
    "# 4. Write a recursive Python function to calculate the sum of all elements in a list.\n",
    "\n",
    "#Code:-\n",
    "\n",
    "def sum_list(values):\n",
    "    if not values:\n",
    "        return 0\n",
    "    \n",
    "    return values[0] + sum_list(values[1:])\n",
    "\n",
    "if __name__ == \"__main__\":\n",
    "    \n",
    "    values = [12,3,4,5,6,9]\n",
    "    \n",
    "    print(sum_list(values))"
   ]
  },
  {
   "cell_type": "markdown",
   "id": "815a94da-25e5-49cc-a2cb-44c0225f9e2b",
   "metadata": {},
   "source": [
    "# 5. How can you prevent a recursive function from running infinitely, causing a stack overflow error?\n",
    "\n",
    "#Code:-\n",
    "\n",
    "Preventing a recursive function from running infinitely and causing a stack overflow error typically involves adding a termination condition or base case to the recursive function. This base case defines when the recursion should stop and ensures that the function doesn't keep calling itself indefinitely. Here are the steps to prevent infinite recursion:\n",
    "\n",
    "Identify a Base Case:\n",
    "\n",
    "Determine the condition under which the recursive function should stop and return a result.\n",
    "This base case should be a simple condition that can be evaluated at each level of recursion.\n",
    "In many cases, the base case corresponds to the \"smallest\" or simplest input to the function.\n",
    "Include the Base Case in Your Function:\n",
    "\n",
    "Inside the recursive function, check whether the current input satisfies the base case condition.\n",
    "If the base case condition is met, return a specific value or perform a specific action to terminate the recursion.\n",
    "Ensure Progress Toward the Base Case:\n",
    "\n",
    "For the recursion to make progress towards the base case, the input should be modified in a way that brings it closer to the base case with each recursive call.\n",
    "This ensures that the function eventually reaches the base case.\n",
    "Here's an example of a simple recursive function to calculate the factorial of a number (n), with a base case:\n",
    "\n",
    "\n",
    "def factorial(n):\n",
    "    # Base case: If n is 0, return 1.\n",
    "    if n == 0:\n",
    "        return 1\n",
    "    # Recursive case: Calculate factorial for n-1 and multiply by n.\n",
    "    else:\n",
    "        return n * factorial(n - 1)\n",
    "In this example, the base case is when n is equal to 0. When n reaches 0, the recursion stops and returns 1. For any positive integer n, the function reduces the problem by computing the factorial of n-1, ensuring that it eventually reaches the base case."
   ]
  },
  {
   "cell_type": "code",
   "execution_count": 3,
   "id": "277f57b7-6450-4f12-8067-db2dbdcb5f41",
   "metadata": {},
   "outputs": [
    {
     "name": "stdin",
     "output_type": "stream",
     "text": [
      "Enter first number:  48\n",
      "Enter second number:  18\n"
     ]
    },
    {
     "name": "stdout",
     "output_type": "stream",
     "text": [
      "\n",
      "GCD of 48 and 18 : 6\n"
     ]
    }
   ],
   "source": [
    "# 6. Create a recursive Python function to find the greatest common divisor (GCD) of two numbers using the Euclidean algorithm.\n",
    "\n",
    "def GCD(a, b):\n",
    "    \n",
    "    if a <= 0 or b <= 0:\n",
    "        return a\n",
    "    \n",
    "    return GCD(b,a%b)\n",
    "    \n",
    "if __name__ == \"__main__\":\n",
    "    \n",
    "    a = int(input(\"Enter first number: \"))\n",
    "    \n",
    "    b = int(input(\"Enter second number: \"))\n",
    "    \n",
    "    if a < b:\n",
    "        a,b = b,a\n",
    "    \n",
    "    gcd = GCD(a,b)\n",
    "        \n",
    "    print(f\"\\nGCD of {a} and {b} : {gcd}\")"
   ]
  },
  {
   "cell_type": "code",
   "execution_count": 11,
   "id": "5d97913e-0a74-43d6-b908-bf3015cec976",
   "metadata": {},
   "outputs": [
    {
     "name": "stdout",
     "output_type": "stream",
     "text": [
      "NIMAZ\n"
     ]
    }
   ],
   "source": [
    "# 7. Write a recursive Python function to reverse a string.\n",
    "\n",
    "#Code:-\n",
    "\n",
    "\n",
    "def reverse_string(string):\n",
    "    \n",
    "    if(len(string) <= 1):\n",
    "        return string\n",
    "    \n",
    "    return string[-1] + reverse_string(string[1:-1]) + reverse_string(string[0])\n",
    "\n",
    "if __name__ == \"__main__\":\n",
    "    \n",
    "    string = \"ZAMIN\"\n",
    "    \n",
    "    reversed_string = reverse_string(string)\n",
    "    \n",
    "    print(reversed_string)"
   ]
  },
  {
   "cell_type": "code",
   "execution_count": 15,
   "id": "ec923d8f-1d46-40d9-a076-6cbb82966c3e",
   "metadata": {},
   "outputs": [
    {
     "name": "stdin",
     "output_type": "stream",
     "text": [
      "Enter number:  5\n",
      "Enter power of number:  3\n"
     ]
    },
    {
     "name": "stdout",
     "output_type": "stream",
     "text": [
      "\n",
      "Power of 5: 125\n"
     ]
    }
   ],
   "source": [
    "# 8. Create a recursive Python function to calculate the power of a number (x^n).\n",
    "\n",
    "def power(x, n):\n",
    "    \n",
    "    if(n == 0):\n",
    "        return 1\n",
    "    \n",
    "    return x * power(x, n-1)\n",
    "    \n",
    "if __name__ == \"__main__\":\n",
    "    \n",
    "    num = int(input(\"Enter number: \"))\n",
    "    \n",
    "    powe = int(input(\"Enter power of number: \"))\n",
    "    \n",
    "    num_pow = power(num, powe)\n",
    "    \n",
    "    print(f\"\\nPower of {num}: {num_pow}\")"
   ]
  },
  {
   "cell_type": "code",
   "execution_count": 5,
   "id": "78c748f8-902f-4b6f-a10e-436c20f2ae38",
   "metadata": {},
   "outputs": [
    {
     "name": "stdout",
     "output_type": "stream",
     "text": [
      "['abc', 'acb', 'bac', 'bca', 'cab', 'cba']\n"
     ]
    }
   ],
   "source": [
    "# 9. Write a recursive Python function to find all permutations of a given string.\n",
    "\n",
    "#Code:-\n",
    "\n",
    "def permutations(string, permutation, result):\n",
    "    \n",
    "    if(len(permutation) == len(string)):\n",
    "        result.append(''.join(permutation))\n",
    "        \n",
    "    \n",
    "    for i in string:\n",
    "        \n",
    "        if not i in permutation:\n",
    "            permutation.append(i)\n",
    "            permutations(string,permutation,result)\n",
    "            permutation.pop()\n",
    "            \n",
    "    return result\n",
    "\n",
    "if __name__ == \"__main__\":\n",
    "    \n",
    "    string = \"abc\"\n",
    "    print(permutations(string,[],[]))"
   ]
  },
  {
   "cell_type": "code",
   "execution_count": 1,
   "id": "90acdc07-c423-4fa3-a5c1-c54a94ffb6b1",
   "metadata": {},
   "outputs": [
    {
     "name": "stdout",
     "output_type": "stream",
     "text": [
      "maHam is palindrome\n"
     ]
    }
   ],
   "source": [
    "# 10. Write a recursive Python function to check if a string is a palindrome.\n",
    "\n",
    "#Code:-\n",
    "\n",
    "def is_palindrome(string):\n",
    "    \n",
    "    if(len(string) <= 1):\n",
    "        return True\n",
    "    \n",
    "    # comparing first and last elements\n",
    "    if(string[0] == string[-1]):\n",
    "        \n",
    "        #comparing all the elements except those who are compared\n",
    "        return is_palindrome(string[1:-1])\n",
    "    \n",
    "    else:\n",
    "        return False\n",
    "    \n",
    "if __name__ == \"__main__\":\n",
    "    \n",
    "    string = \"maHam\"\n",
    "    \n",
    "    result = is_palindrome(string.lower())\n",
    "    \n",
    "    if result:\n",
    "        print(f\"{string} is palindrome\")\n",
    "        \n",
    "    else:\n",
    "        print(f\"{string} is not a palindrome\")"
   ]
  },
  {
   "cell_type": "code",
   "execution_count": null,
   "id": "a3c66f86-77fb-49f6-9304-ad9879919f13",
   "metadata": {},
   "outputs": [],
   "source": [
    "# 11. Create a recursive Python function to generate all possible combinations of a list of elements.\n",
    "\n",
    "#Code:-\n",
    "\n",
    "def generate_combinations(elements, current_combination=[]):\n",
    "    if not elements:\n",
    "        # If the elements list is empty, we've reached the end of a combination\n",
    "        print(current_combination)\n",
    "        return\n",
    "\n",
    "    # Include the first element in the current combination and generate combinations for the rest\n",
    "    generate_combinations(elements[1:], current_combination + [elements[0]])\n",
    "\n",
    "    # Exclude the first element in the current combination and generate combinations for the rest\n",
    "    generate_combinations(elements[1:], current_combination)\n",
    "\n",
    "# Example usage:\n",
    "my_elements = [1, 2, 3]\n",
    "generate_combinations(my_elements)"
   ]
  },
  {
   "cell_type": "code",
   "execution_count": 3,
   "id": "c3cddcc5-5bd8-4355-a5c5-4894a9a9fcbe",
   "metadata": {},
   "outputs": [],
   "source": [
    "#*****************************************************************************************************#\n",
    "#************************************ BASICS OF FUNCTION *********************************************#\n",
    "#*****************************************************************************************************#"
   ]
  },
  {
   "cell_type": "markdown",
   "id": "11685d4b-b635-40b6-b19e-1541fcb9a12e",
   "metadata": {},
   "source": [
    "# 1. What is a function in Python, and why is it used?\n",
    "\n",
    "#Code:-\n",
    "\n",
    "\n",
    "In Python, a function is a self-contained block of code that performs a specific task or a set of related tasks. Functions are a fundamental concept in programming and serve several purposes:\n",
    "\n",
    "Modularity: Functions allow you to break down a complex program into smaller, more manageable pieces. Each function can handle a specific part of the overall functionality, making your code more organized and easier to understand.\n",
    "\n",
    "Reusability: Once a function is defined, it can be called multiple times from various parts of your program. This promotes code reuse and helps avoid duplicating code, which reduces errors and makes your code more maintainable.\n",
    "\n",
    "Abstraction: Functions provide a level of abstraction, allowing you to use them without needing to know the implementation details. This simplifies the process of using code, as you can work with higher-level functions that encapsulate complex logic.\n",
    "\n",
    "Readability: Using functions makes your code more readable and easier to follow, as you can give meaningful names to functions that describe their purpose, making your code self-documenting.\n",
    "\n",
    "Testing and Debugging: Functions allow you to isolate specific parts of your code, making it easier to test and debug individual components. This modular approach simplifies the process of identifying and fixing issues.\n",
    "\n",
    "Parameterization: Functions can accept arguments (parameters) that allow you to customize their behavior. This parameterization makes it possible to reuse the same function for different data or scenarios.\n",
    "\n",
    "Encapsulation: Functions can encapsulate data and logic, ensuring that variables declared within a function do not interfere with variables in the global scope. This helps avoid naming conflicts and data leakage.\n",
    "\n",
    "To define a function in Python, you use the def keyword followed by the function name, a pair of parentheses for optional parameters, and a colon. The function body is indented and contains the code to be executed when the function is called. Here's a simple example of a Python function:\n",
    "\n",
    "\n",
    "\n",
    "def greet(name):\n",
    "    print(f\"Hello, {name}!\")\n",
    "\n",
    "# Calling the function\n",
    "greet(\"Alice\")\n",
    "In this example, the greet function takes one parameter, name, and prints a greeting message using that name.\n",
    "Functions are a fundamental building block in Python and are used extensively to create structured, modular,\n",
    "and maintainable code."
   ]
  },
  {
   "cell_type": "markdown",
   "id": "a1a242e5-b031-49f1-a461-2cceae23a20b",
   "metadata": {},
   "source": [
    "# 2. How do you define a function in Python? Provide an example.\n",
    "\n",
    "Ans:-\n",
    "\n",
    "In Python, you define a function using the def keyword, followed by the function name, a pair of parentheses for optional parameters, and a colon. The function body is indented and contains the code to be executed when the function is called. Here's the basic syntax for defining a function:\n",
    "\n",
    "def function_name(parameters):\n",
    "    # Function body\n",
    "    # Code to be executed\n",
    "Let's look at an example of defining a simple function that adds two numbers:\n",
    "\n",
    "\n",
    "def add_numbers(a, b):\n",
    "    result = a + b\n",
    "    return result\n",
    "In this example:\n",
    "\n",
    "def is the keyword that marks the start of the function definition.\n",
    "add_numbers is the name of the function.\n",
    "(a, b) is a pair of parameters that the function expects. These parameters allow you to pass values to the function.\n",
    "result = a + b is the code within the function, which calculates the sum of a and b.\n",
    "return result specifies the value that the function will return when it's called. In this case, it returns the sum of a and b.\n",
    "You can then call this function with specific values for a and `b, like this:\n",
    "\n",
    "\n",
    "result = add_numbers(5, 3)\n",
    "print(result)  # This will print \"8\"\n",
    "The function takes the arguments (5 and 3), calculates the sum (8), and returns the result, which is then printed. Functions in Python can have parameters, can return values, and can include more complex logic to perform a wide variety of tasks.\n",
    "\n",
    "\n"
   ]
  },
  {
   "cell_type": "markdown",
   "id": "8298d9f5-9f3a-4333-a0bc-1a9bc016aeeb",
   "metadata": {},
   "source": [
    "# 3. Explain the difference between a function definition and a function call.\n",
    "\n",
    "Ans:-\n",
    "\n",
    "In Python, there are two key concepts related to functions: function definition and function call. These concepts serve different purposes and are executed at different stages of a program's lifecycle:\n",
    "\n",
    "Function Definition:\n",
    "\n",
    "A function definition is the process of creating a function.\n",
    "It specifies the function's name, parameters, and the code that gets executed when the function is called.\n",
    "A function definition is a one-time task that you perform when you want to create a reusable piece of code.\n",
    "It is typically done using the def keyword, followed by the function name, parameters (if any), and a colon. The function body contains the code to be executed.\n",
    "The function definition defines the function's behavior, but it doesn't execute the code within the function.\n",
    "Example:\n",
    "\n",
    "def add(a, b):\n",
    "    return a + b\n",
    "    \n",
    "Function Call (Invocation):\n",
    "\n",
    "A function call is the process of actually executing a function that has been defined.\n",
    "It involves providing the necessary arguments (if the function has parameters) and triggering the execution of the code within the function.\n",
    "A function call can be made multiple times throughout your code.\n",
    "A function call is done by using the function's name followed by a pair of parentheses, and it can include arguments as needed.\n",
    "The function call is the point at which the code within the function definition is executed.\n",
    "Example:\n",
    "\n",
    "result = add(5, 3)\n"
   ]
  },
  {
   "cell_type": "code",
   "execution_count": 8,
   "id": "ab42552a-e4cf-47a0-8501-292370222a7b",
   "metadata": {},
   "outputs": [
    {
     "name": "stdout",
     "output_type": "stream",
     "text": [
      "30\n"
     ]
    }
   ],
   "source": [
    "# 4. Write a Python program that defines a function to calculate the sum of two numbers and then calls the function.\n",
    "\n",
    "#Code:-\n",
    "\n",
    "def add(a, b):\n",
    "    return a+b\n",
    "\n",
    "a = 10\n",
    "b = 20\n",
    "\n",
    "result = add(a,b)\n",
    "\n",
    "print(result)"
   ]
  },
  {
   "cell_type": "markdown",
   "id": "4bfe6a75-40c8-4761-9b73-433fa74312c8",
   "metadata": {},
   "source": [
    "# 5. What is a function signature, and what information does it typically include?\n",
    "\n",
    "Ans:-\n",
    "\n",
    "A function signature, also known as a function header, is a fundamental part of a function's definition in programming languages like Python. It provides essential information about the function's characteristics and how it can be used. A typical function signature includes the following components:\n",
    "\n",
    "Function Name: This is the name that identifies the function. It should be a descriptive and meaningful name that reflects the purpose of the function. In Python, function names follow the same naming conventions as variable names (e.g., they are typically lowercase with underscores for readability).\n",
    "\n",
    "Parameters: Parameters, also known as input arguments, are values that the function expects to receive when it's called. Parameters are enclosed in parentheses after the function name. The parameters define the data that the function operates on. For example, in the function signature def add(a, b):, a and b are the parameters.\n",
    "\n",
    "Return Type: The return type specifies the type of value that the function will return when it's executed. Not all functions have a return type, and some may return None. The return type is usually indicated with a colon followed by an arrow (->) and the data type. For example, def add(a, b) -> int: specifies that the function returns an integer.\n",
    "\n",
    "Documentation/Docstring: A well-documented function includes a docstring, which is a multi-line string that provides information about what the function does, its parameters, expected behavior, and any other relevant details. Good documentation helps developers understand how to use the function correctly.\n",
    "\n",
    "Here's an example of a function signature in Python with all these components:\n",
    "\n",
    "def calculate_average(values: list) -> float:\n",
    "    \"\"\"\n",
    "    Calculate the average of a list of numeric values.\n",
    "\n",
    "    Args:\n",
    "        values (list): A list of numeric values.\n",
    "\n",
    "    Returns:\n",
    "        float: The average of the values.\n",
    "    \"\"\"\n",
    "    \n",
    "# Function body\n",
    "In this example:\n",
    "\n",
    "The function name is calculate_average.\n",
    "The parameter is values, which is expected to be a list of numeric values.\n",
    "The return type is float, indicating that the function returns a floating-point number.\n",
    "The docstring provides information about the function's purpose, parameters, and the type of value it returns.\n",
    "A well-defined function signature is essential for code readability and maintainability, as it makes it clear how the function should be used and what it does.\n",
    "It also helps other developers understand and use the function correctly, especially in collaborative programming environments."
   ]
  },
  {
   "cell_type": "code",
   "execution_count": 1,
   "id": "52daff78-872c-426a-992f-628f95ec72dd",
   "metadata": {},
   "outputs": [
    {
     "name": "stdout",
     "output_type": "stream",
     "text": [
      "60\n"
     ]
    }
   ],
   "source": [
    "# 6. Create a Python function that takes two arguments and returns their product.\n",
    "\n",
    "#Code:-\n",
    "\n",
    "def product(a,b):\n",
    "    return a*b\n",
    "\n",
    "a = 12\n",
    "\n",
    "b = 5\n",
    "\n",
    "result = product(a,b)\n",
    "\n",
    "print(result)"
   ]
  },
  {
   "cell_type": "code",
   "execution_count": 1,
   "id": "cdade2df-09b7-4ade-956f-619de6bb12fc",
   "metadata": {},
   "outputs": [],
   "source": [
    "#****************************************************************************************************#\n",
    "#*************************** Function Parameters and Arguments **************************************#\n",
    "#****************************************************************************************************#"
   ]
  },
  {
   "cell_type": "markdown",
   "id": "55ac311c-c275-4314-ada9-fea4aef43790",
   "metadata": {},
   "source": [
    "# 1. Explain the concepts of formal parameters and actual arguments in Python functions.\n",
    "\n",
    "Ans:-\n",
    "\n",
    "In Python functions, \"formal parameters\" and \"actual arguments\" are essential concepts related to the passing of data to and from functions. They are often used interchangeably with the terms \"parameters\" and \"arguments,\" but it's important to understand the distinction between them:\n",
    "\n",
    "Formal Parameters (Parameters):\n",
    "\n",
    "Formal parameters are placeholders or variables specified in the function's definition.\n",
    "They are used to receive and work with data that is passed to the function when it is called.\n",
    "These parameters are part of the function signature and are enclosed in the function's parentheses.\n",
    "Formal parameters are local variables within the function and are only accessible within the function's scope.\n",
    "They define the type and order of data the function expects to receive when called.\n",
    "Example of a function definition with formal parameters:\n",
    "\n",
    "\n",
    "def greet(name):\n",
    "    print(f\"Hello, {name}!\")\n",
    "In this example, name is a formal parameter.\n",
    "\n",
    "Actual Arguments (Arguments):\n",
    "\n",
    "Actual arguments, often referred to as \"arguments\" or \"input values,\" are the specific data values that are passed to a function when it is called.\n",
    "These values are substituted for the corresponding formal parameters in the function's body during execution.\n",
    "Arguments can be literals, variables, or expressions.\n",
    "Arguments are provided when invoking a function, and they must match the number and order of the formal parameters.\n",
    "Example of function calls with actual arguments:\n",
    "\n",
    "\n",
    "greet(\"Alice\")  # \"Alice\" is the actual argument for the formal parameter \"name.\"\n",
    "greet(\"Bob\")    # \"Bob\" is the actual argument for the formal parameter \"name.\"\n",
    "In these calls, \"Alice\" and \"Bob\" are actual arguments.\n",
    "\n",
    "There are different ways to pass actual arguments to functions in Python, and these include:\n",
    "\n",
    "Positional Arguments: The most common method, where arguments are matched to formal parameters based on their position in the function call.\n",
    "\n",
    "\n",
    "def add(a, b):\n",
    "    return a + b\n",
    "\n",
    "result = add(3, 5)  # 3 is matched with a, and 5 is matched with b.\n",
    "Keyword Arguments: Arguments are matched to formal parameters based on their names, which allows you to specify arguments out of order.\n",
    "\n",
    "\n",
    "result = add(b=5, a=3)  # Using keyword arguments to match values to parameters.\n",
    "Default Arguments: You can assign default values to formal parameters, allowing you to omit them in the function call if desired.\n",
    "\n",
    "\n",
    "def greet(name, greeting=\"Hello\"):\n",
    "    print(f\"{greeting}, {name}!\")\n",
    "\n",
    "\n",
    "greet(\"Alice\")          # Using the default value for \"greeting.\"\n",
    "greet(\"Bob\", \"Hi\")      # Providing a different value for \"greeting.\"\n",
    "Understanding the distinction between formal parameters and actual arguments is crucial for writing functions that can accept data, process it, and return results effectively in Python. It allows you to control how data is passed to functions and how it's used within the function's logic."
   ]
  },
  {
   "cell_type": "code",
   "execution_count": 2,
   "id": "f6957157-c88d-45f3-98d0-5963501476aa",
   "metadata": {},
   "outputs": [
    {
     "name": "stdout",
     "output_type": "stream",
     "text": [
      "Bye bye zamin\n"
     ]
    }
   ],
   "source": [
    "# 2. Write a Python program that defines a function with default argument values.\n",
    "\n",
    "#Code:-\n",
    "\n",
    "def say_bye(name, bye = \"Bye bye\"):\n",
    "    print(f\"{bye} {name}\")\n",
    "    \n",
    "\n",
    "say_bye(\"zamin\")"
   ]
  },
  {
   "cell_type": "code",
   "execution_count": 4,
   "id": "56b226f0-353f-40cd-acd1-05545ae0c68a",
   "metadata": {},
   "outputs": [
    {
     "data": {
      "text/plain": [
       "8"
      ]
     },
     "execution_count": 4,
     "metadata": {},
     "output_type": "execute_result"
    }
   ],
   "source": [
    "# 3. How do you use keyword arguments in Python function calls? Provide an example.\n",
    "\n",
    "#Code:-\n",
    "\n",
    "def add(a,b):\n",
    "    return a+b\n",
    "\n",
    "add(b = 3, a = 5)"
   ]
  },
  {
   "cell_type": "code",
   "execution_count": 10,
   "id": "f11cf6e6-c141-4f9b-949b-d5572892b0dc",
   "metadata": {},
   "outputs": [
    {
     "data": {
      "text/plain": [
       "72"
      ]
     },
     "execution_count": 10,
     "metadata": {},
     "output_type": "execute_result"
    }
   ],
   "source": [
    "# 4. Create a Python function that accepts a variable number of arguments and calculates their sum.\n",
    "\n",
    "#Code:-\n",
    "\n",
    "def Sum(*args)->float:\n",
    "    return sum(args)\n",
    "\n",
    "\n",
    "Sum(2,3,4,45,5,6,7)"
   ]
  },
  {
   "cell_type": "markdown",
   "id": "a6b626eb-6fc3-4562-abb4-a9798c836427",
   "metadata": {},
   "source": [
    "# 5. What is the purpose of the `*args` and `**kwargs` syntax in function parameter lists?\n",
    "\n",
    "#Code:-\n",
    "\n",
    "The *args and **kwargs syntax in function parameter lists serve specific purposes in Python, allowing you to work with a variable number of arguments in your functions. Here's an explanation of each:\n",
    "\n",
    "*args (Arbitrary Positional Arguments):\n",
    "\n",
    "The *args syntax allows a function to accept a variable number of non-keyword (positional) arguments.\n",
    "It collects these arguments into a tuple, which you can then iterate through or process as needed within the function.\n",
    "The name args is a convention, but you can use any name after the * (e.g., *values, *numbers, etc.).\n",
    "It's commonly used when you don't know in advance how many arguments the function will receive.\n",
    "\n",
    "Example:\n",
    "\n",
    "def add(*args):\n",
    "    total = 0\n",
    "    for num in args:\n",
    "        total += num\n",
    "    return total\n",
    "\n",
    "result = add(1, 2, 3, 4, 5)\n",
    "**kwargs (Arbitrary Keyword Arguments):\n",
    "\n",
    "The **kwargs syntax allows a function to accept a variable number of keyword arguments (keyword-value pairs).\n",
    "It collects these arguments into a dictionary, where the keys are the argument names (keywords), and the values are the associated values.\n",
    "The name kwargs is a convention, but like *args, you can use any name after the ** (e.g., **params, **options, etc.).\n",
    "It's commonly used when you want to provide optional configuration parameters to a function.\n",
    "\n",
    "Example:\n",
    "\n",
    "def greet(**kwargs):\n",
    "    message = \"Hello, \"\n",
    "    if 'name' in kwargs:\n",
    "        message += kwargs['name']\n",
    "    else:\n",
    "        message += \"Guest\"\n",
    "    return message\n",
    "\n",
    "result = greet(name=\"Alice\", age=25)\n",
    "In both cases, the use of *args and **kwargs provides flexibility when defining functions. It allows the functions to handle a variable number of arguments, which can be particularly useful when dealing with functions that need to cater to a wide range of input scenarios. These syntaxes are a way to make your code more adaptable and dynamic, making it easier to work with different sets of data or parameters."
   ]
  },
  {
   "cell_type": "code",
   "execution_count": 12,
   "id": "4d0d6698-84ea-42e8-9a84-8adaeff66bfa",
   "metadata": {},
   "outputs": [],
   "source": [
    "#********************************************************************************************************#\n",
    "#********************************* Return Values and Scoping ********************************************#\n",
    "#********************************************************************************************************#"
   ]
  },
  {
   "cell_type": "markdown",
   "id": "61e2bd82-b5eb-4019-90a3-18078567e64d",
   "metadata": {},
   "source": [
    "# 1. Describe the role of the `return` statement in Python functions and provide examples.\n",
    "\n",
    "Ans:-\n",
    "\n",
    "The return statement in Python functions plays a crucial role in defining what value a function should compute and produce as its result. It serves several important functions:\n",
    "\n",
    "Returning Values: The primary role of the return statement is to specify the value that the function should return as its output. This value can be of any data type, including integers, strings, lists, dictionaries, and more.\n",
    "\n",
    "Terminating the Function: When a return statement is encountered in a function, it immediately exits the function's execution and returns control to the point in the code where the function was called. This is particularly important in cases where a function should stop execution once a certain condition is met.\n",
    "\n",
    "Passing Data Back to the Caller: The value specified in the return statement is passed back to the caller of the function. This allows you to use the result of the function for further processing, display it, store it in a variable, or pass it as an argument to another function.\n",
    "\n",
    "Here are some examples to illustrate the role of the return statement:\n",
    "\n",
    "Example 1: Returning a Value\n",
    "\n",
    "\n",
    "def add(a, b):\n",
    "    result = a + b\n",
    "    return result  # The result is returned to the caller.\n",
    "\n",
    "sum_result = add(3, 4)  # The return value is assigned to the variable sum_result.\n",
    "print(sum_result)  # Output: 7\n",
    "In this example, the add function calculates the sum of two numbers and returns the result, which is assigned to the variable sum_result.\n",
    "\n",
    "Example 2: Terminating the Function\n",
    "\n",
    "\n",
    "def is_even(number):\n",
    "    if number % 2 == 0:\n",
    "        return True  # The function terminates and returns True.\n",
    "    else:\n",
    "        return False  # The function terminates and returns False.\n",
    "\n",
    "result1 = is_even(4)  # The function returns True.\n",
    "result2 = is_even(5)  # The function returns False.\n",
    "In this example, the is_even function checks whether a number is even and returns True or False. The function terminates as soon as the return statement is executed.\n",
    "\n",
    "Example 3: Returning Multiple Values\n",
    "\n",
    "\n",
    "def get_details():\n",
    "    name = \"Alice\"\n",
    "    age = 30\n",
    "    return name, age  # Returning multiple values as a tuple.\n",
    "\n",
    "name_result, age_result = get_details()  # Unpacking the returned tuple.\n",
    "print(\"Name:\", name_result)  # Output: \"Alice\"\n",
    "print(\"Age:\", age_result)  # Output: 30\n",
    "In this example, the get_details function returns both a name and an age. The caller unpacks the returned tuple to access these values.\n",
    "\n",
    "The return statement is a fundamental element in Python functions, allowing them to produce meaningful results and communicate information back to the code that called the function."
   ]
  },
  {
   "cell_type": "markdown",
   "id": "418bbac6-065f-4c9c-b66d-0717471c690e",
   "metadata": {},
   "source": [
    "# 2. Explain the concept of variable scope in Python, including local and global variables.\n",
    "\n",
    "#Code:-\n",
    "\n",
    "\n",
    "Variable scope in Python refers to the context or region of a program where a variable is defined and can be accessed. Understanding variable scope is essential for writing reliable and maintainable code, as it determines where and how variables can be used within your Python programs. There are two primary types of variable scope in Python: local scope and global scope.\n",
    "\n",
    "Local Variable Scope:\n",
    "\n",
    "Local variables are defined inside a function or a block of code, and their scope is limited to that specific function or block.\n",
    "Local variables are not accessible from outside the function in which they are defined.\n",
    "They are temporary and exist only as long as the function is executing.\n",
    "Each function call creates a new scope for its local variables, and these variables do not interfere with similarly named variables in other functions or the global scope.\n",
    "Example of local variable scope:\n",
    "\n",
    "def my_function():\n",
    "    # This is a local variable.\n",
    "    local_var = 42\n",
    "    print(local_var)\n",
    "\n",
    "my_function()\n",
    "# Attempting to access local_var here would result in a NameError because it's out of scope.\n",
    "Global Variable Scope:\n",
    "\n",
    "Global variables are defined outside of any function or block, typically at the top level of a script or module.\n",
    "They are accessible from any part of the program, including functions, but you need to explicitly declare them as global using the global keyword if you want to modify their value within a function.\n",
    "Global variables have a longer lifespan, and their values persist throughout the program's execution.\n",
    "Example of global variable scope:\n",
    "\n",
    "global_var = 10  # This is a global variable\n",
    "\n",
    "def my_function():\n",
    "    # Accessing the global variable\n",
    "    print(global_var)\n",
    "\n",
    "my_function()  # This will print the value of global_var\n",
    "\n",
    "def modify_global_var():\n",
    "    global global_var\n",
    "    global_var = 20  # Modifying the global variable\n",
    "\n",
    "modify_global_var()\n",
    "print(global_var)  # Now, global_var is 20\n",
    "Local vs. Global Scope:\n",
    "\n",
    "If a variable with the same name exists in both the local and global scopes, the local variable takes precedence within its local scope. Accessing the variable within that scope refers to the local variable.\n",
    "To access or modify a global variable within a function, you need to use the global keyword to indicate that you're referring to the global variable.\n",
    "Enclosing (Non-local) Scope:\n",
    "\n",
    "Python also supports an enclosing (non-local) scope, which is relevant in nested functions. In this context, variables can be neither strictly local nor strictly global.\n",
    "Variables in an enclosing scope are accessible from inner functions, but they are not global variables.\n",
    "Example of enclosing scope:\n",
    "\n",
    "\n",
    "def outer_function():\n",
    "    outer_var = 50\n",
    "\n",
    "    def inner_function():\n",
    "        # Accessing the variable from the enclosing scope\n",
    "        print(outer_var)\n",
    "\n",
    "    inner_function()\n",
    "\n",
    "outer_function()\n",
    "Understanding variable scope is crucial for writing clean, bug-free code and for ensuring that variables are used in the appropriate contexts within your Python programs.\n"
   ]
  },
  {
   "cell_type": "code",
   "execution_count": 11,
   "id": "8a3b15c3-4ce0-4a9d-ae69-16b22fb8e398",
   "metadata": {},
   "outputs": [
    {
     "ename": "SyntaxError",
     "evalue": "name 'global_var' is used prior to global declaration (2595961814.py, line 13)",
     "output_type": "error",
     "traceback": [
      "\u001b[0;36m  Cell \u001b[0;32mIn[11], line 13\u001b[0;36m\u001b[0m\n\u001b[0;31m    global global_var\u001b[0m\n\u001b[0m    ^\u001b[0m\n\u001b[0;31mSyntaxError\u001b[0m\u001b[0;31m:\u001b[0m name 'global_var' is used prior to global declaration\n"
     ]
    }
   ],
   "source": [
    "# 3. Write a Python program that demonstrates the use of global variables within functions.\n",
    "\n",
    "#Code:-\n",
    "\n",
    "# Define a global variable\n",
    "global_var = 10\n",
    "\n",
    "def modify_global():\n",
    "    # Access the global variable\n",
    "    print(\"Inside the function (before modification):\", global_var)\n",
    "\n",
    "    # Modify the global variable\n",
    "    global global_var\n",
    "    global_var = 20\n",
    "\n",
    "    # Access the global variable after modification\n",
    "    print(\"Inside the function (after modification):\", global_var)\n",
    "\n",
    "# Access the global variable before calling the function\n",
    "print(\"Outside the function (before modification):\", global_var)\n",
    "\n",
    "# Call the function to modify the global variable\n",
    "modify_global()\n",
    "\n",
    "# Access the global variable after the function call\n",
    "print(\"Outside the function (after modification):\", global_var)"
   ]
  },
  {
   "cell_type": "code",
   "execution_count": 7,
   "id": "1e33d819-b892-466b-9b77-0caa8b58db81",
   "metadata": {},
   "outputs": [
    {
     "name": "stdout",
     "output_type": "stream",
     "text": [
      "Factoral of 4 is 24\n"
     ]
    }
   ],
   "source": [
    "# 4. Create a Python function that calculates the factorial of a number and returns it.\n",
    "\n",
    "#Code:-\n",
    "\n",
    "def factorial(n):\n",
    "    \n",
    "    if n <= 0:\n",
    "        return 1\n",
    "    \n",
    "    return n * factorial(n-1)\n",
    "\n",
    "num = 4\n",
    "\n",
    "fact = factorial(num)\n",
    "\n",
    "print(f\"Factoral of {num} is {fact}\")"
   ]
  },
  {
   "cell_type": "markdown",
   "id": "66e2e7ad-2a65-412c-ae8b-d48864626059",
   "metadata": {},
   "source": [
    "# 5. How can you access variables defined outside a function from within the function?\n",
    "\n",
    "#Code:-\n",
    "\n",
    "In Python, you can access variables defined outside a function from within the function by using the variable's name directly. Python follows a specific order when looking for a variable:\n",
    "\n",
    "Local Scope: Python first checks if the variable is defined within the local scope of the function. If it finds a variable with the same name within the function, it uses that local variable.\n",
    "\n",
    "Enclosing (Non-local) Scope: If the variable is not found in the local scope, Python checks if the variable is defined in an enclosing (non-local) scope. This typically applies to nested functions, where variables from the containing (outer) function are accessible within the inner function.\n",
    "\n",
    "Global Scope: If the variable is not found in either the local or enclosing scope, Python checks the global scope. Global variables are accessible from any part of the program.\n",
    "\n",
    "Built-in Scope: If the variable is not found in any of the above scopes, Python checks the built-in scope, where it looks for predefined names like print, len, and other built-in functions and variables.\n",
    "\n",
    "Here's an example to illustrate how variables defined outside a function can be accessed from within the function:\n",
    "\n",
    "global_var = 10  # A global variable\n",
    "\n",
    "def access_global_variable():\n",
    "    # Access the global variable\n",
    "    print(\"Inside the function:\", global_var)\n",
    "\n",
    "# Call the function\n",
    "access_global_variable()\n",
    "\n",
    "# Access the global variable outside the function\n",
    "print(\"Outside the function:\", global_var)\n",
    "In this example, the access_global_variable function accesses the global_var global variable directly. When you call the function, it prints the value of the global variable both inside and outside the function, demonstrating how variables defined outside the function are accessible from within it.\n"
   ]
  },
  {
   "cell_type": "code",
   "execution_count": 1,
   "id": "da9104b3-4429-4e10-b954-d08bd8824b22",
   "metadata": {},
   "outputs": [],
   "source": [
    "#********************************************************************************************************#\n",
    "#******************************* Lambda Functions and Higher-Order Functions ****************************#\n",
    "#********************************************************************************************************#"
   ]
  },
  {
   "cell_type": "markdown",
   "id": "9eb73959-a180-483f-bc56-13de791d938b",
   "metadata": {},
   "source": [
    "# 1. What are lambda functions in Python, and when are they typically used?\n",
    "\n",
    "Ans:-\n",
    "\n",
    "Lambda functions in Python are a way to create small, anonymous, and one-line functions. They are also known as lambda expressions or lambda notation. Lambda functions are typically used when you need a simple, short function for a specific, often one-time use. They have the following characteristics:\n",
    "\n",
    "Anonymous: Lambda functions are anonymous because they do not have a name. They are created using the lambda keyword and are defined on the spot.\n",
    "\n",
    "Single Expression: Lambda functions are designed for small, single expressions. They are limited to a single line of code and can perform a concise operation.\n",
    "\n",
    "No Statements: Lambda functions cannot contain statements, assignments, or multiple expressions. They can only include a single expression.\n",
    "\n",
    "Lambda functions are typically used in the following scenarios:\n",
    "\n",
    "Functional Programming: Lambda functions are often used with higher-order functions like map(), filter(), and sorted(). They allow you to pass a simple function as an argument, making code more concise and expressive.\n",
    "\n",
    "Short-lived Functions: When you need a small, temporary function for a specific task that doesn't warrant defining a separate named function, a lambda function is a convenient choice.\n",
    "\n",
    "Anonymous Functions: In situations where a function's name is not needed and readability is not compromised, lambda functions can be used to make the code more compact.\n",
    "\n",
    "Here are a few examples of lambda functions and their typical use cases:\n",
    "\n",
    "Example 1: Lambda for Arithmetic Operation:\n",
    "\n",
    "\n",
    "add = lambda x, y: x + y\n",
    "result = add(3, 4)  # result will be 7\n",
    "Example 2: Lambda with map():\n",
    "\n",
    "\n",
    "numbers = [1, 2, 3, 4, 5]\n",
    "squared_numbers = list(map(lambda x: x**2, numbers))\n",
    "Example 3: Lambda with filter():\n",
    "\n",
    "\n",
    "numbers = [1, 2, 3, 4, 5, 6, 7, 8]\n",
    "even_numbers = list(filter(lambda x: x % 2 == 0, numbers))\n",
    "Example 4: Lambda for Sorting:\n",
    "\n",
    "\n",
    "people = [{'name': 'Alice', 'age': 30}, {'name': 'Bob', 'age': 25}, {'name': 'Eve', 'age': 35}]\n",
    "\n",
    "people.sort(key=lambda person: person['age'])\n",
    "\n",
    "Lambda functions are a valuable tool for simplifying code and making it more concise when you have a simple, one-line operation to perform. However, for more complex functions, it's often better to use named functions to enhance code readability and maintainability."
   ]
  },
  {
   "cell_type": "code",
   "execution_count": 24,
   "id": "e9f68711-b2b4-4ab4-a3ee-7330d273b3d7",
   "metadata": {},
   "outputs": [
    {
     "data": {
      "text/plain": [
       "[(23, 1, 5435, 35), (1, 3, 4, 4, 5), (2, 4, 5, 5, 7), (2, 4, 24, 35)]"
      ]
     },
     "execution_count": 24,
     "metadata": {},
     "output_type": "execute_result"
    }
   ],
   "source": [
    "# 2. Write a Python program that uses lambda functions to sort a list of tuples based on the second element.\n",
    "\n",
    "#Code:-\n",
    "\n",
    "list1 = [(1,3,4,4,5), (2,4,5,5,7), (23,1,5435,35), (2,4,24,35)]\n",
    "\n",
    "list1.sort(key = lambda x: x[1])\n",
    "\n",
    "list1"
   ]
  },
  {
   "cell_type": "markdown",
   "id": "159f6c2c-32db-4d60-b582-985c0ac07e11",
   "metadata": {},
   "source": [
    "# 3. Explain the concept of higher-order functions in Python, and provide an example.\n",
    "\n",
    "#Ans:-\n",
    "\n",
    "Higher-order functions are functions in Python (or any programming language) that can take one or more functions as arguments or return a function as their result. In other words, they treat functions as first-class citizens, allowing you to work with functions in a flexible and powerful way. Higher-order functions are a fundamental concept in functional programming.\n",
    "\n",
    "Here's an example of a higher-order function in Python:\n",
    "\n",
    "def apply(func, x):\n",
    "    return func(x)\n",
    "\n",
    "# Example functions to be used with the higher-order function\n",
    "def square(n):\n",
    "    return n ** 2\n",
    "\n",
    "def double(n):\n",
    "    return n * 2\n",
    "\n",
    "# Using the higher-order function\n",
    "result1 = apply(square, 4)  # Applies the square function to 4\n",
    "result2 = apply(double, 5)  # Applies the double function to 5\n",
    "\n",
    "print(result1)  # Output: 16\n",
    "print(result2)  # Output: 10\n",
    "In this example:\n",
    "\n",
    "The apply function is a higher-order function that takes two arguments: func, a function, and x, a value. It applies the given function func to the value x and returns the result.\n",
    "\n",
    "There are two example functions, square and double, which perform different operations on a number.\n",
    "\n",
    "The higher-order function apply is used to apply the square function to the number 4 and the double function to the number 5, resulting in 16 and 10, respectively.\n"
   ]
  },
  {
   "cell_type": "code",
   "execution_count": 26,
   "id": "35715b67-7852-4d51-94de-d9cff0952e66",
   "metadata": {},
   "outputs": [
    {
     "name": "stdout",
     "output_type": "stream",
     "text": [
      "Squared numbers: [1, 4, 9, 16, 25, 36, 49, 49, 64, 64, 81]\n",
      "Doubled numbers: [2, 4, 6, 8, 10, 12, 14, 14, 16, 16, 18]\n"
     ]
    }
   ],
   "source": [
    "''' 4. Create a Python function that takes a list of numbers and a function as arguments,\n",
    "applying the function to each element in the list.'''\n",
    "\n",
    "#Code:-\n",
    "\n",
    "def apply(func,numbers):\n",
    "    return list(map(func, numbers))\n",
    "\n",
    "def square(n):\n",
    "    return n**2\n",
    "\n",
    "def double(n):\n",
    "    return n * 2\n",
    "\n",
    "\n",
    "numbers = [1,2,3,4,5,6,7,7,8,8,9]\n",
    "\n",
    "squared_numbers = apply(square, numbers)\n",
    "\n",
    "doubled_numbers = apply(double, numbers)\n",
    "\n",
    "print(f\"Squared numbers: {squared_numbers}\\nDoubled numbers: {doubled_numbers}\")"
   ]
  },
  {
   "cell_type": "code",
   "execution_count": 13,
   "id": "0389186d-fbb1-4c12-9713-e1d1bb51cc19",
   "metadata": {},
   "outputs": [],
   "source": [
    "#***********************************************************************************************************#\n",
    "#****************************************** Built-in Functions *********************************************#\n",
    "#***********************************************************************************************************#"
   ]
  },
  {
   "cell_type": "markdown",
   "id": "e85c2ba7-e5ca-4ad3-a0f5-6db183b33f10",
   "metadata": {},
   "source": [
    "# 1. Describe the role of built-in functions like `len()`, `max()`, and `min()` in Python.\n",
    "\n",
    "#Ans:-\n",
    "\n",
    "len():\n",
    "\n",
    "The len() function is used to determine the length or the number of elements in a data structure or a sequence.\n",
    "It takes one argument, which can be a string, list, tuple, dictionary, or any iterable, and returns an integer representing the number of elements.\n",
    "It's a handy way to check the size of a data structure, loop through elements, or validate the input's length.\n",
    "\n",
    "Example:\n",
    "\n",
    "string_length = len(\"Hello, World!\")  # string\n",
    "list_length = len([1, 2, 3, 4, 5])  # list\n",
    "dict_length = len({\"apple\": 3, \"banana\": 2, \"cherry\": 1})  # dictionary\n",
    "max():\n",
    "\n",
    "The max() function is used to find the maximum (largest) element within an iterable or among multiple arguments.\n",
    "It can accept one or more arguments, and it returns the maximum value.\n",
    "It works for various data types, including numbers and strings.\n",
    "If used with multiple arguments, it returns the maximum value among them.\n",
    "\n",
    "Example:\n",
    "\n",
    "largest_number = max(5, 10, 2, 8)  # among arguments\n",
    "largest_char = max(\"apple\", \"banana\", \"cherry\")  # among strings\n",
    "largest_in_list = max([10, 20, 5, 15])  # within a list\n",
    "\n",
    "min():\n",
    "\n",
    "The min() function is used to find the minimum (smallest) element within an iterable or among multiple arguments.\n",
    "Similar to max(), it can accept one or more arguments and returns the minimum value.\n",
    "It is applicable to various data types, including numbers and strings.\n",
    "If used with multiple arguments, it returns the minimum value among them.\n",
    "\n",
    "Example:\n",
    "\n",
    "smallest_number = min(5, 10, 2, 8)  # among arguments\n",
    "smallest_char = min(\"apple\", \"banana\", \"cherry\")  # among strings\n",
    "smallest_in_list = min([10, 20, 5, 15])  # within a list\n",
    "These built-in functions are essential for performing basic operations on data and for obtaining insights or statistics about data collections. They help streamline tasks and simplify code by providing a convenient way to find lengths, maximum values, and minimum values in Python.\n"
   ]
  },
  {
   "cell_type": "code",
   "execution_count": 27,
   "id": "4ac842d1-69cb-439d-98d3-01418e3bbf6a",
   "metadata": {},
   "outputs": [
    {
     "name": "stdout",
     "output_type": "stream",
     "text": [
      "[1, 4, 9, 16, 16, 25, 25, 36]\n"
     ]
    }
   ],
   "source": [
    "# 2. Write a Python program that uses the `map()` function to apply a function to each element of a list.\n",
    "\n",
    "#Code:-\n",
    "\n",
    "numbers = [1,2,3,4,4,5,5,6]\n",
    "\n",
    "squared_numbers = list(map(lambda x: x**2, numbers))\n",
    "\n",
    "print(squared_numbers)"
   ]
  },
  {
   "cell_type": "code",
   "execution_count": 29,
   "id": "6873c18e-25d5-47db-ad8f-39f6b60c194f",
   "metadata": {},
   "outputs": [
    {
     "name": "stdout",
     "output_type": "stream",
     "text": [
      "[2, 4, 6, 8, 10]\n"
     ]
    }
   ],
   "source": [
    "# 3. How does the `filter()` function work in Python, and when would you use it?\n",
    "\n",
    "#Code:-\n",
    "\n",
    "numbers = [1,2,3,4,5,6,7,8,9,10]\n",
    "\n",
    "even_numbers = list(filter(lambda x: x % 2 == 0, numbers))\n",
    "\n",
    "print(even_numbers)"
   ]
  },
  {
   "cell_type": "code",
   "execution_count": 31,
   "id": "8c2a59e7-1206-4ca8-b95d-8cfd1f0493f8",
   "metadata": {},
   "outputs": [
    {
     "name": "stdout",
     "output_type": "stream",
     "text": [
      "3628800\n"
     ]
    }
   ],
   "source": [
    "# 4. Create a Python program that uses the `reduce()` function to find the product of all elements in a list.\n",
    "\n",
    "#Code:-\n",
    "\n",
    "from functools import reduce\n",
    "\n",
    "numbers = [1,2,3,4,5,6,7,8,9,10]\n",
    "\n",
    "product = reduce(lambda a,b: a * b, numbers)\n",
    "\n",
    "print(product)"
   ]
  },
  {
   "cell_type": "code",
   "execution_count": 19,
   "id": "7244e793-5f5f-4d5e-80f7-19818980b62c",
   "metadata": {},
   "outputs": [],
   "source": [
    "#*************************************************************************************************************#\n",
    "#**************************** Function Documentation and Best Practices **************************************#\n",
    "#*************************************************************************************************************#"
   ]
  },
  {
   "cell_type": "markdown",
   "id": "6595882d-a0a8-49bb-a87d-17fde301e025",
   "metadata": {},
   "source": [
    "# 1. Explain the purpose of docstrings in Python functions and how to write them.\n",
    "\n",
    "#Ans:-\n",
    "\n",
    "Docstrings in Python functions serve the purpose of providing documentation and information about the function's purpose, usage, and behavior. They are used to document functions, classes, methods, and modules, making it easier for developers to understand and use them. Docstrings are also used by various tools and libraries for generating documentation and providing help to users. Here's how to write docstrings and their purpose:\n",
    "\n",
    "Purpose of Docstrings:\n",
    "\n",
    "Documentation: Docstrings provide a way to describe what a function does, its parameters, return values, and any additional information that is relevant to its usage.\n",
    "\n",
    "Readability: Well-written docstrings enhance code readability by explaining the purpose of functions and their expected behavior. They make it easier for other developers (and future you) to understand and use the code.\n",
    "\n",
    "Help Text: Docstrings are accessible as help text when using tools like Python's help() function or integrated development environments (IDEs). They can also be used in code documentation generators like Sphinx.\n",
    "\n",
    "How to Write Docstrings:\n",
    "\n",
    "Docstrings are usually placed within triple-quotes (either single or double) as the first statement within a function, class, or module. The Python community generally follows the PEP 257 style guide for writing docstrings. Here's a common format for writing docstrings:\n",
    "\n",
    "\n",
    "def function_name(parameter1, parameter2):\n",
    "    \"\"\"\n",
    "    Brief description of the function's purpose.\n",
    "\n",
    "    Additional details about the function and its behavior.\n",
    "\n",
    "    Args:\n",
    "        parameter1 (type): Description of the first parameter.\n",
    "        parameter2 (type): Description of the second parameter.\n",
    "\n",
    "    Returns:\n",
    "        return_type: Description of the return value.\n",
    "\n",
    "    Raises:\n",
    "        ExceptionType: Description of exceptions that can be raised (if applicable).\n",
    "\n",
    "    Examples:\n",
    "        Provide usage examples if needed.\n",
    "    \"\"\"\n",
    "    # Function code goes here\n",
    "Here's a breakdown of the elements in the docstring:\n",
    "\n",
    "The first line contains a brief, one-line description of the function's purpose.\n",
    "\n",
    "The second paragraph provides additional details about the function's behavior, including what it does and any important considerations.\n",
    "\n",
    "The Args section lists the function's parameters, their data types, and descriptions.\n",
    "\n",
    "The Returns section describes the return value of the function, including its data type and what it represents.\n",
    "\n",
    "The Raises section, if present, lists any exceptions that the function can raise and provides descriptions.\n",
    "\n",
    "The Examples section, if needed, includes usage examples to illustrate how to use the function.\n",
    "\n",
    "Here's an example of a docstring for a function that calculates the square of a number:\n",
    "\n",
    "\n",
    "def square(number):\n",
    "    \"\"\"\n",
    "    Calculate the square of a number.\n",
    "\n",
    "    This function takes a number as input and returns its square.\n",
    "\n",
    "    Args:\n",
    "        number (int): The input number to be squared.\n",
    "\n",
    "    Returns:\n",
    "        int: The square of the input number.\n",
    "\n",
    "    Examples:\n",
    "        >>> square(4)\n",
    "        16\n",
    "    \"\"\"\n",
    "    return number ** 2\n",
    "Writing informative and well-structured docstrings is a good practice in Python development, as it promotes code understanding and maintainability, and it helps others effectively use your code.\n"
   ]
  },
  {
   "cell_type": "markdown",
   "id": "e98dc62f-bc0b-4e3b-afd3-5c278d7a4495",
   "metadata": {},
   "source": [
    "# 2. Describe some best practices for naming functions and variables in Python, including naming conventions and guidelines.\n",
    "\n",
    "#Ans:-\n",
    "\n",
    "Naming functions and variables in Python is crucial for code readability, maintainability, and collaboration. Python follows a set of naming conventions and guidelines to ensure consistency across codebases. Here are some best practices for naming functions and variables in Python:\n",
    "\n",
    "1. Use Descriptive Names:\n",
    "\n",
    "Choose names that clearly and concisely describe the purpose or intent of the function or variable.\n",
    "Use meaningful and relevant words that reflect the functionality, making the code self-explanatory.\n",
    "2. Follow PEP 8:\n",
    "\n",
    "PEP 8 is the official Python Enhancement Proposal for coding style and conventions. It provides guidelines for naming functions and variables. Adhering to PEP 8 makes your code consistent and more readable.\n",
    "3. Use lowercase with underscores (snake_case):\n",
    "\n",
    "For variable names and function names, use all lowercase letters with words separated by underscores.\n",
    "Example: my_variable, calculate_average.\n",
    "4. Use lowercase for function names:\n",
    "\n",
    "Function names should be in all lowercase letters with words separated by underscores.\n",
    "Example: calculate_average, process_data.\n",
    "5. Use lowercase for variable names:\n",
    "\n",
    "Variable names should also be in all lowercase letters with words separated by underscores.\n",
    "Example: user_input, result_list.\n",
    "6. Use lowercase for module and package names:\n",
    "\n",
    "Module and package names should be in all lowercase.\n",
    "Example: my_module.py, my_package/.\n",
    "7. Avoid using single-letter variable names:\n",
    "\n",
    "Unless a variable represents a well-known mathematical concept (e.g., x, y) or is used as a loop counter (e.g., i, j), it's best to use more descriptive names.\n",
    "8. Follow conventions for special variables:\n",
    "\n",
    "Some variable names have conventions associated with their use, such as self for instance variables in classes, and cls for class methods.\n",
    "9. Use nouns for variables and verbs for functions:\n",
    "\n",
    "Variable names typically represent data or objects and should be nouns. Function names should represent actions and should be verbs.\n",
    "Example: student_name (variable), calculate_grade (function).\n",
    "10. Be consistent within the codebase:\n",
    "- Maintain consistency in naming conventions throughout your code. Use the same style for functions and variables within the same project.\n",
    "\n",
    "11. Avoid shadowing built-in names:\n",
    "- Be cautious not to use names that conflict with built-in Python names (e.g., don't use list or str as variable names).\n",
    "\n",
    "12. Use meaningful variable and function arguments:\n",
    "- When naming function arguments, choose names that convey the meaning of the data they represent.\n",
    "- Example: def calculate_average(grades): is more informative than def calculate_average(data):.\n",
    "\n",
    "13. Abbreviate when reasonable:\n",
    "- While it's generally recommended to use descriptive names, you can use common and widely recognized abbreviations when they don't sacrifice clarity.\n",
    "- Example: max_length (instead of maximum_length).\n",
    "\n",
    "14. Consider the context:\n",
    "- The context in which a function or variable is used matters. Choose names that are meaningful within the specific context, even if they might not be self-explanatory in isolation.\n",
    "\n",
    "15. Use meaningful docstrings:\n",
    "- Complement your function and variable names with meaningful docstrings to provide detailed explanations of their purpose and usage.\n",
    "\n",
    "By following these best practices and conventions, you'll create code that is more readable, maintainable, and easier for you and others to work with. Consistency in naming is essential for writing clean and understandable Python code."
   ]
  }
 ],
 "metadata": {
  "kernelspec": {
   "display_name": "Python 3 (ipykernel)",
   "language": "python",
   "name": "python3"
  },
  "language_info": {
   "codemirror_mode": {
    "name": "ipython",
    "version": 3
   },
   "file_extension": ".py",
   "mimetype": "text/x-python",
   "name": "python",
   "nbconvert_exporter": "python",
   "pygments_lexer": "ipython3",
   "version": "3.10.8"
  }
 },
 "nbformat": 4,
 "nbformat_minor": 5
}
